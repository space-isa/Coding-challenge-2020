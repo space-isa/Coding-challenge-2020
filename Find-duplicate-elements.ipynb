{
 "cells": [
  {
   "cell_type": "code",
   "execution_count": 91,
   "metadata": {
    "ExecuteTime": {
     "end_time": "2020-03-29T03:05:10.437772Z",
     "start_time": "2020-03-29T03:05:10.432540Z"
    }
   },
   "outputs": [],
   "source": [
    "import numpy as np\n",
    "from collections import Counter\n",
    "import random"
   ]
  },
  {
   "cell_type": "code",
   "execution_count": 108,
   "metadata": {
    "ExecuteTime": {
     "end_time": "2020-03-29T03:20:11.944580Z",
     "start_time": "2020-03-29T03:20:11.930871Z"
    }
   },
   "outputs": [
    {
     "name": "stdout",
     "output_type": "stream",
     "text": [
      "The following elements have duplicate entries: [9, 26, 68, 52, 16, 6, 82, 70, 19, 84, 4, 31, 1, 71, 37, 93, 8, 75, 92, 39, 89, 50, 27, 83, 45, 88, 7, 90, 49, 67, 32, 61, 56, 53, 86, 94, 98, 14, 81, 21, 47, 48, 43, 77, 80, 54, 23, 74, 62, 33, 64, 30, 18, 2, 5, 36, 24, 58, 66, 40, 28, 87, 12, 42, 44, 17, 11, 13, 29, 57, 3, 59, 72, 15, 10, 78, 34, 25, 20, 85, 65, 95, 41, 73, 79, 97, 76, 35, 22, 46, 60, 63, 51, 96, 55, 69, 99, 91, 38]\n"
     ]
    }
   ],
   "source": [
    "def findDuplicates(my_array):\n",
    "    '''This function creates a dictionary containing the number of each element\n",
    "    then returns the elements that occur more than once.'''\n",
    "    if len(my_array) == 0:\n",
    "        return ('This array is empty!')\n",
    "    else:\n",
    "        duplicates = []\n",
    "        counter = Counter(my_array)\n",
    "    for element in counter:\n",
    "        if counter[element] >= 2:\n",
    "            duplicates.append(element)\n",
    "    return duplicates\n",
    "\n",
    "\n",
    "def createArray(num_elements):\n",
    "    my_array = np.random.randint(1, 100, num_elements)\n",
    "    return my_array\n",
    "\n",
    "\n",
    "def main():\n",
    "    duplicates = findDuplicates(my_array)\n",
    "    return duplicates\n",
    "\n",
    "\n",
    "my_array = createArray(num_elements=np.random.randint(0, 10000))\n",
    "if __name__ == '__main__':\n",
    "    duplicates = main() #cProfile.run('main()')\n",
    "    print('The following elements have duplicate entries: {}'.format(duplicates))"
   ]
  }
 ],
 "metadata": {
  "kernelspec": {
   "display_name": "Python 3",
   "language": "python",
   "name": "python3"
  },
  "language_info": {
   "codemirror_mode": {
    "name": "ipython",
    "version": 3
   },
   "file_extension": ".py",
   "mimetype": "text/x-python",
   "name": "python",
   "nbconvert_exporter": "python",
   "pygments_lexer": "ipython3",
   "version": "3.6.4"
  },
  "toc": {
   "base_numbering": 1,
   "nav_menu": {},
   "number_sections": true,
   "sideBar": true,
   "skip_h1_title": true,
   "title_cell": "Table of Contents",
   "title_sidebar": "Contents",
   "toc_cell": false,
   "toc_position": {},
   "toc_section_display": true,
   "toc_window_display": false
  },
  "varInspector": {
   "cols": {
    "lenName": 16,
    "lenType": 16,
    "lenVar": 40
   },
   "kernels_config": {
    "python": {
     "delete_cmd_postfix": "",
     "delete_cmd_prefix": "del ",
     "library": "var_list.py",
     "varRefreshCmd": "print(var_dic_list())"
    },
    "r": {
     "delete_cmd_postfix": ") ",
     "delete_cmd_prefix": "rm(",
     "library": "var_list.r",
     "varRefreshCmd": "cat(var_dic_list()) "
    }
   },
   "types_to_exclude": [
    "module",
    "function",
    "builtin_function_or_method",
    "instance",
    "_Feature"
   ],
   "window_display": false
  }
 },
 "nbformat": 4,
 "nbformat_minor": 2
}
