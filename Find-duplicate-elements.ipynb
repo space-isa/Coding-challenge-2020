{
 "cells": [
  {
   "cell_type": "code",
   "execution_count": 109,
   "metadata": {
    "ExecuteTime": {
     "end_time": "2020-03-29T23:16:27.664094Z",
     "start_time": "2020-03-29T23:16:27.634130Z"
    }
   },
   "outputs": [],
   "source": [
    "import numpy as np\n",
    "from collections import Counter\n",
    "import random\n",
    "import cProfile"
   ]
  },
  {
   "cell_type": "code",
   "execution_count": 113,
   "metadata": {
    "ExecuteTime": {
     "end_time": "2020-03-29T23:20:55.368914Z",
     "start_time": "2020-03-29T23:20:55.341383Z"
    }
   },
   "outputs": [
    {
     "name": "stdout",
     "output_type": "stream",
     "text": [
      "The following elements have duplicate entries: [41, 8, 42, 34, 55, 14, 94, 25, 53, 12, 7, 36, 20, 76, 75, 5, 91, 62, 73, 68, 83, 90, 29, 9, 35, 84, 37, 15, 77, 79, 43, 71, 70, 38, 33, 10, 52, 87, 59, 45, 63, 26, 78, 89, 67, 24, 82, 72, 95, 4, 88, 64, 66, 16, 40, 27, 2, 58, 81, 47, 17, 69, 97, 32, 50, 54, 6, 28, 80, 31, 56, 1, 74, 65, 93, 96, 11, 49, 19, 57, 39, 48, 44, 60, 3, 51, 13, 30, 85, 21, 86, 92, 61, 18, 46, 98, 23, 99, 22]\n",
      "         940 function calls in 0.002 seconds\n",
      "\n",
      "   Ordered by: standard name\n",
      "\n",
      "   ncalls  tottime  percall  cumtime  percall filename:lineno(function)\n",
      "        1    0.000    0.000    0.001    0.001 <ipython-input-113-56093b3b9d33>:1(findDuplicates)\n",
      "        1    0.000    0.000    0.001    0.001 <ipython-input-113-56093b3b9d33>:20(main)\n",
      "        1    0.000    0.000    0.001    0.001 __init__.py:517(__init__)\n",
      "        1    0.000    0.000    0.001    0.001 __init__.py:586(update)\n",
      "        2    0.000    0.000    0.000    0.000 _weakrefset.py:70(__contains__)\n",
      "        1    0.000    0.000    0.000    0.000 abc.py:178(__instancecheck__)\n",
      "       99    0.000    0.000    0.000    0.000 arrayprint.py:381(wrapper)\n",
      "       99    0.000    0.000    0.000    0.000 arrayprint.py:399(array2string)\n",
      "        3    0.000    0.000    0.000    0.000 iostream.py:195(schedule)\n",
      "        2    0.000    0.000    0.000    0.000 iostream.py:300(_is_master_process)\n",
      "        2    0.000    0.000    0.000    0.000 iostream.py:313(_schedule_flush)\n",
      "        2    0.000    0.000    0.000    0.000 iostream.py:366(write)\n",
      "        3    0.000    0.000    0.000    0.000 iostream.py:93(_event_pipe)\n",
      "       99    0.000    0.000    0.000    0.000 numeric.py:1905(array_str)\n",
      "        3    0.000    0.000    0.000    0.000 socket.py:333(send)\n",
      "        3    0.000    0.000    0.000    0.000 threading.py:1062(_wait_for_tstate_lock)\n",
      "        3    0.000    0.000    0.000    0.000 threading.py:1104(is_alive)\n",
      "        3    0.000    0.000    0.000    0.000 threading.py:506(is_set)\n",
      "        1    0.001    0.001    0.001    0.001 {built-in method _collections._count_elements}\n",
      "       99    0.000    0.000    0.000    0.000 {built-in method _thread.get_ident}\n",
      "       99    0.000    0.000    0.000    0.000 {built-in method builtins.id}\n",
      "        3    0.000    0.000    0.000    0.000 {built-in method builtins.isinstance}\n",
      "        3    0.000    0.000    0.000    0.000 {built-in method builtins.len}\n",
      "        1    0.000    0.000    0.000    0.000 {built-in method builtins.print}\n",
      "        2    0.000    0.000    0.000    0.000 {built-in method posix.getpid}\n",
      "        3    0.000    0.000    0.000    0.000 {method 'acquire' of '_thread.lock' objects}\n",
      "       99    0.000    0.000    0.000    0.000 {method 'add' of 'set' objects}\n",
      "        3    0.000    0.000    0.000    0.000 {method 'append' of 'collections.deque' objects}\n",
      "       99    0.000    0.000    0.000    0.000 {method 'append' of 'list' objects}\n",
      "        1    0.000    0.000    0.000    0.000 {method 'disable' of '_lsprof.Profiler' objects}\n",
      "       99    0.000    0.000    0.000    0.000 {method 'discard' of 'set' objects}\n",
      "        1    0.000    0.000    0.001    0.001 {method 'format' of 'str' objects}\n",
      "       99    0.000    0.000    0.000    0.000 {method 'item' of 'numpy.ndarray' objects}\n",
      "\n",
      "\n"
     ]
    }
   ],
   "source": [
    "def findDuplicates(my_array):\n",
    "    '''This function creates a dictionary containing the number of each element\n",
    "    then returns the elements that occur more than once.'''\n",
    "    if len(my_array) == 0:\n",
    "        return ('This array is empty!')\n",
    "    else:\n",
    "        duplicates = []\n",
    "        counter = Counter(my_array)\n",
    "    for element in counter:\n",
    "        if counter[element] >= 2:\n",
    "            duplicates.append(element)\n",
    "    return duplicates\n",
    "\n",
    "\n",
    "def createArray(num_elements):\n",
    "    my_array = np.random.randint(1, 100, num_elements)\n",
    "    return my_array\n",
    "\n",
    "\n",
    "def main():\n",
    "    duplicates = findDuplicates(my_array)\n",
    "    return duplicates\n",
    "\n",
    "my_array = createArray(num_elements=np.random.randint(0, 10000))\n",
    "\n",
    "if __name__ == '__main__':\n",
    "    profile = cProfile.Profile()\n",
    "    profile.enable()\n",
    "    duplicates = main()\n",
    "    print('The following elements have duplicate entries: {}'.format(duplicates))\n",
    "    profile.disable()\n",
    "    profile.print_stats()\n",
    "    "
   ]
  }
 ],
 "metadata": {
  "kernelspec": {
   "display_name": "Python 3",
   "language": "python",
   "name": "python3"
  },
  "language_info": {
   "codemirror_mode": {
    "name": "ipython",
    "version": 3
   },
   "file_extension": ".py",
   "mimetype": "text/x-python",
   "name": "python",
   "nbconvert_exporter": "python",
   "pygments_lexer": "ipython3",
   "version": "3.6.4"
  },
  "toc": {
   "base_numbering": 1,
   "nav_menu": {},
   "number_sections": true,
   "sideBar": true,
   "skip_h1_title": true,
   "title_cell": "Table of Contents",
   "title_sidebar": "Contents",
   "toc_cell": false,
   "toc_position": {},
   "toc_section_display": true,
   "toc_window_display": false
  },
  "varInspector": {
   "cols": {
    "lenName": 16,
    "lenType": 16,
    "lenVar": 40
   },
   "kernels_config": {
    "python": {
     "delete_cmd_postfix": "",
     "delete_cmd_prefix": "del ",
     "library": "var_list.py",
     "varRefreshCmd": "print(var_dic_list())"
    },
    "r": {
     "delete_cmd_postfix": ") ",
     "delete_cmd_prefix": "rm(",
     "library": "var_list.r",
     "varRefreshCmd": "cat(var_dic_list()) "
    }
   },
   "types_to_exclude": [
    "module",
    "function",
    "builtin_function_or_method",
    "instance",
    "_Feature"
   ],
   "window_display": false
  }
 },
 "nbformat": 4,
 "nbformat_minor": 2
}
