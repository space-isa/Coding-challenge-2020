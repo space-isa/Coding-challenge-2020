{
 "cells": [
  {
   "cell_type": "code",
   "execution_count": 1,
   "metadata": {
    "ExecuteTime": {
     "end_time": "2020-04-02T00:25:56.663832Z",
     "start_time": "2020-04-02T00:25:56.420918Z"
    }
   },
   "outputs": [],
   "source": [
    "import numpy as np\n",
    "from collections import Counter\n",
    "import random\n",
    "import cProfile"
   ]
  },
  {
   "cell_type": "code",
   "execution_count": 2,
   "metadata": {
    "ExecuteTime": {
     "end_time": "2020-04-02T00:25:56.680148Z",
     "start_time": "2020-04-02T00:25:56.668304Z"
    }
   },
   "outputs": [
    {
     "name": "stdout",
     "output_type": "stream",
     "text": [
      "4138\n"
     ]
    }
   ],
   "source": [
    "def findDuplicates(my_array):\n",
    "    '''This function creates a dictionary containing the number of each element\n",
    "    then returns the elements that occur more than once.'''\n",
    "    if len(my_array) == 0:\n",
    "        return ('This array is empty!')\n",
    "    else:\n",
    "        duplicates = []\n",
    "        counter = Counter(my_array)\n",
    "    for element in counter:\n",
    "        if counter[element] >= 2:\n",
    "            duplicates.append(element)\n",
    "    return duplicates\n",
    "\n",
    "def findDuplicates2(my_array):\n",
    "    '''This function creates a dictionary containing the number of each element\n",
    "    then returns the elements that occur more than once. Uses list comprehension.'''\n",
    "    if len(my_array) == 0:\n",
    "        return ('This array is empty!')\n",
    "    else:\n",
    "        duplicates2 = [key for (key, val) in Counter(my_array).items() if val > 1]\n",
    "    return duplicates2\n",
    "\n",
    "def createArray(num_elements):\n",
    "    my_array = np.random.randint(1, 100, num_elements)\n",
    "    print(len(my_array))\n",
    "    return my_array\n",
    "\n",
    "my_array = createArray(num_elements=np.random.randint(0, 10000))\n",
    "profile = cProfile.Profile()"
   ]
  },
  {
   "cell_type": "code",
   "execution_count": 3,
   "metadata": {
    "ExecuteTime": {
     "end_time": "2020-04-02T00:25:56.734529Z",
     "start_time": "2020-04-02T00:25:56.683266Z"
    }
   },
   "outputs": [
    {
     "name": "stdout",
     "output_type": "stream",
     "text": [
      "The following elements have duplicate entries using solution one: [41, 48, 93, 86, 42, 49, 71, 88, 91, 57, 44, 97, 96, 62, 77, 32, 37, 79, 7, 83, 69, 84, 51, 75, 1, 30, 68, 35, 59, 99, 55, 20, 63, 21, 54, 25, 8, 70, 34, 28, 72, 64, 58, 50, 15, 47, 26, 81, 5, 74, 27, 43, 2, 17, 52, 76, 89, 85, 80, 67, 33, 73, 29, 94, 4, 31, 56, 14, 12, 66, 3, 78, 46, 23, 19, 16, 60, 90, 98, 53, 95, 92, 87, 6, 39, 65, 45, 40, 36, 38, 11, 24, 10, 22, 82, 13, 61, 18, 9]\n",
      "         1481 function calls (1338 primitive calls) in 0.007 seconds\n",
      "\n",
      "   Ordered by: standard name\n",
      "\n",
      "   ncalls  tottime  percall  cumtime  percall filename:lineno(function)\n",
      "        1    0.000    0.000    0.004    0.004 <ipython-input-2-54a44161580d>:1(findDuplicates)\n",
      "        1    0.000    0.000    0.004    0.004 <ipython-input-3-8cede8bcbeac>:2(<module>)\n",
      "        1    0.000    0.000    0.002    0.002 <ipython-input-3-8cede8bcbeac>:3(<module>)\n",
      "        1    0.000    0.000    0.000    0.000 <ipython-input-3-8cede8bcbeac>:4(<module>)\n",
      "        1    0.000    0.000    0.004    0.004 __init__.py:517(__init__)\n",
      "        1    0.000    0.000    0.004    0.004 __init__.py:586(update)\n",
      "       13    0.000    0.000    0.000    0.000 _collections_abc.py:392(__subclasshook__)\n",
      "       17    0.000    0.000    0.000    0.000 _weakrefset.py:16(__init__)\n",
      "       17    0.000    0.000    0.000    0.000 _weakrefset.py:20(__enter__)\n",
      "       17    0.000    0.000    0.000    0.000 _weakrefset.py:26(__exit__)\n",
      "       14    0.000    0.000    0.000    0.000 _weakrefset.py:36(__init__)\n",
      "       17    0.000    0.000    0.000    0.000 _weakrefset.py:52(_commit_removals)\n",
      "       21    0.000    0.000    0.000    0.000 _weakrefset.py:58(__iter__)\n",
      "       43    0.000    0.000    0.000    0.000 _weakrefset.py:70(__contains__)\n",
      "       17    0.000    0.000    0.000    0.000 _weakrefset.py:81(add)\n",
      "        1    0.000    0.000    0.001    0.001 abc.py:178(__instancecheck__)\n",
      "     28/1    0.001    0.000    0.001    0.001 abc.py:194(__subclasscheck__)\n",
      "       99    0.000    0.000    0.001    0.000 arrayprint.py:381(wrapper)\n",
      "       99    0.000    0.000    0.000    0.000 arrayprint.py:399(array2string)\n",
      "        3    0.000    0.000    0.000    0.000 codeop.py:132(__call__)\n",
      "        3    0.000    0.000    0.000    0.000 hooks.py:142(__call__)\n",
      "        3    0.000    0.000    0.000    0.000 hooks.py:207(pre_run_code_hook)\n",
      "        3    0.000    0.000    0.000    0.000 interactiveshell.py:1104(user_global_ns)\n",
      "        3    0.000    0.000    0.006    0.002 interactiveshell.py:2933(run_code)\n",
      "        3    0.000    0.000    0.000    0.000 iostream.py:195(schedule)\n",
      "        2    0.000    0.000    0.000    0.000 iostream.py:300(_is_master_process)\n",
      "        2    0.000    0.000    0.000    0.000 iostream.py:313(_schedule_flush)\n",
      "        2    0.000    0.000    0.000    0.000 iostream.py:366(write)\n",
      "        3    0.000    0.000    0.000    0.000 iostream.py:93(_event_pipe)\n",
      "        3    0.000    0.000    0.000    0.000 ipstruct.py:125(__getattr__)\n",
      "       99    0.000    0.000    0.001    0.000 numeric.py:1905(array_str)\n",
      "        3    0.000    0.000    0.000    0.000 socket.py:333(send)\n",
      "        3    0.000    0.000    0.000    0.000 threading.py:1062(_wait_for_tstate_lock)\n",
      "        3    0.000    0.000    0.000    0.000 threading.py:1104(is_alive)\n",
      "        3    0.000    0.000    0.000    0.000 threading.py:506(is_set)\n",
      "       12    0.000    0.000    0.000    0.000 typing.py:1019(_abc_negative_cache)\n",
      "        4    0.000    0.000    0.000    0.000 typing.py:1025(_abc_negative_cache)\n",
      "        9    0.000    0.000    0.000    0.000 typing.py:1033(_abc_negative_cache_version)\n",
      "        4    0.000    0.000    0.000    0.000 typing.py:1039(_abc_negative_cache_version)\n",
      "       14    0.000    0.000    0.000    0.000 typing.py:1089(__eq__)\n",
      "     18/5    0.000    0.000    0.001    0.000 typing.py:1145(__subclasscheck__)\n",
      "     16/8    0.000    0.000    0.000    0.000 typing.py:1164(__setattr__)\n",
      "        3    0.000    0.000    0.000    0.000 typing.py:875(__extrahook__)\n",
      "        4    0.000    0.000    0.000    0.000 typing.py:889(__extrahook__)\n",
      "        1    0.003    0.003    0.003    0.003 {built-in method _collections._count_elements}\n",
      "       99    0.000    0.000    0.000    0.000 {built-in method _thread.get_ident}\n",
      "        3    0.000    0.000    0.000    0.000 {built-in method builtins.compile}\n",
      "        3    0.000    0.000    0.006    0.002 {built-in method builtins.exec}\n",
      "       17    0.000    0.000    0.000    0.000 {built-in method builtins.getattr}\n",
      "       99    0.000    0.000    0.000    0.000 {built-in method builtins.id}\n",
      "     60/3    0.000    0.000    0.001    0.000 {built-in method builtins.isinstance}\n",
      "     43/5    0.000    0.000    0.001    0.000 {built-in method builtins.issubclass}\n",
      "        3    0.000    0.000    0.000    0.000 {built-in method builtins.len}\n",
      "        1    0.000    0.000    0.000    0.000 {built-in method builtins.print}\n",
      "        2    0.000    0.000    0.000    0.000 {built-in method posix.getpid}\n",
      "        9    0.000    0.000    0.000    0.000 {built-in method sys._getframe}\n",
      "       20    0.000    0.000    0.000    0.000 {method '__subclasses__' of 'type' objects}\n",
      "        3    0.000    0.000    0.000    0.000 {method 'acquire' of '_thread.lock' objects}\n",
      "      133    0.000    0.000    0.000    0.000 {method 'add' of 'set' objects}\n",
      "        3    0.000    0.000    0.000    0.000 {method 'append' of 'collections.deque' objects}\n",
      "       99    0.000    0.000    0.000    0.000 {method 'append' of 'list' objects}\n",
      "        1    0.000    0.000    0.000    0.000 {method 'disable' of '_lsprof.Profiler' objects}\n",
      "       99    0.000    0.000    0.000    0.000 {method 'discard' of 'set' objects}\n",
      "        1    0.000    0.000    0.001    0.001 {method 'format' of 'str' objects}\n",
      "       99    0.000    0.000    0.000    0.000 {method 'item' of 'numpy.ndarray' objects}\n",
      "       17    0.000    0.000    0.000    0.000 {method 'remove' of 'set' objects}\n",
      "       32    0.000    0.000    0.000    0.000 {method 'startswith' of 'str' objects}\n",
      "\n",
      "\n"
     ]
    }
   ],
   "source": [
    "profile.enable()\n",
    "duplicates = findDuplicates(my_array)\n",
    "print('The following elements have duplicate entries using solution one: {}'.format(duplicates))\n",
    "profile.disable()\n",
    "profile.print_stats()"
   ]
  },
  {
   "cell_type": "code",
   "execution_count": 4,
   "metadata": {
    "ExecuteTime": {
     "end_time": "2020-04-02T00:25:56.798289Z",
     "start_time": "2020-04-02T00:25:56.743609Z"
    },
    "scrolled": true
   },
   "outputs": [
    {
     "name": "stdout",
     "output_type": "stream",
     "text": [
      "The following elements have duplicate entries using solution two: [41, 48, 93, 86, 42, 49, 71, 88, 91, 57, 44, 97, 96, 62, 77, 32, 37, 79, 7, 83, 69, 84, 51, 75, 1, 30, 68, 35, 59, 99, 55, 20, 63, 21, 54, 25, 8, 70, 34, 28, 72, 64, 58, 50, 15, 47, 26, 81, 5, 74, 27, 43, 2, 17, 52, 76, 89, 85, 80, 67, 33, 73, 29, 94, 4, 31, 56, 14, 12, 66, 3, 78, 46, 23, 19, 16, 60, 90, 98, 53, 95, 92, 87, 6, 39, 65, 45, 40, 36, 38, 11, 24, 10, 22, 82, 13, 61, 18, 9]\n",
      "         2350 function calls (2207 primitive calls) in 0.012 seconds\n",
      "\n",
      "   Ordered by: standard name\n",
      "\n",
      "   ncalls  tottime  percall  cumtime  percall filename:lineno(function)\n",
      "        1    0.000    0.000    0.004    0.004 <ipython-input-2-54a44161580d>:1(findDuplicates)\n",
      "        1    0.000    0.000    0.004    0.004 <ipython-input-2-54a44161580d>:14(findDuplicates2)\n",
      "        1    0.001    0.001    0.001    0.001 <ipython-input-2-54a44161580d>:20(<listcomp>)\n",
      "        1    0.000    0.000    0.004    0.004 <ipython-input-3-8cede8bcbeac>:2(<module>)\n",
      "        1    0.000    0.000    0.002    0.002 <ipython-input-3-8cede8bcbeac>:3(<module>)\n",
      "        1    0.000    0.000    0.000    0.000 <ipython-input-3-8cede8bcbeac>:4(<module>)\n",
      "        1    0.000    0.000    0.004    0.004 <ipython-input-4-9023c3a283cc>:2(<module>)\n",
      "        1    0.000    0.000    0.001    0.001 <ipython-input-4-9023c3a283cc>:3(<module>)\n",
      "        1    0.000    0.000    0.000    0.000 <ipython-input-4-9023c3a283cc>:4(<module>)\n",
      "        2    0.000    0.000    0.007    0.004 __init__.py:517(__init__)\n",
      "        2    0.000    0.000    0.007    0.004 __init__.py:586(update)\n",
      "       13    0.000    0.000    0.000    0.000 _collections_abc.py:392(__subclasshook__)\n",
      "       17    0.000    0.000    0.000    0.000 _weakrefset.py:16(__init__)\n",
      "       17    0.000    0.000    0.000    0.000 _weakrefset.py:20(__enter__)\n",
      "       17    0.000    0.000    0.000    0.000 _weakrefset.py:26(__exit__)\n",
      "       14    0.000    0.000    0.000    0.000 _weakrefset.py:36(__init__)\n",
      "       17    0.000    0.000    0.000    0.000 _weakrefset.py:52(_commit_removals)\n",
      "       21    0.000    0.000    0.000    0.000 _weakrefset.py:58(__iter__)\n",
      "       45    0.000    0.000    0.000    0.000 _weakrefset.py:70(__contains__)\n",
      "       17    0.000    0.000    0.000    0.000 _weakrefset.py:81(add)\n",
      "        2    0.000    0.000    0.001    0.001 abc.py:178(__instancecheck__)\n",
      "     28/1    0.001    0.000    0.001    0.001 abc.py:194(__subclasscheck__)\n",
      "      198    0.001    0.000    0.001    0.000 arrayprint.py:381(wrapper)\n",
      "      198    0.000    0.000    0.001    0.000 arrayprint.py:399(array2string)\n",
      "        6    0.000    0.000    0.001    0.000 codeop.py:132(__call__)\n",
      "        6    0.000    0.000    0.000    0.000 hooks.py:142(__call__)\n",
      "        6    0.000    0.000    0.000    0.000 hooks.py:207(pre_run_code_hook)\n",
      "        6    0.000    0.000    0.000    0.000 interactiveshell.py:1104(user_global_ns)\n",
      "        6    0.000    0.000    0.011    0.002 interactiveshell.py:2933(run_code)\n",
      "        6    0.000    0.000    0.000    0.000 iostream.py:195(schedule)\n",
      "        4    0.000    0.000    0.000    0.000 iostream.py:300(_is_master_process)\n",
      "        4    0.000    0.000    0.000    0.000 iostream.py:313(_schedule_flush)\n",
      "        4    0.000    0.000    0.000    0.000 iostream.py:366(write)\n",
      "        6    0.000    0.000    0.000    0.000 iostream.py:93(_event_pipe)\n",
      "        6    0.000    0.000    0.000    0.000 ipstruct.py:125(__getattr__)\n",
      "      198    0.000    0.000    0.002    0.000 numeric.py:1905(array_str)\n",
      "        6    0.000    0.000    0.000    0.000 socket.py:333(send)\n",
      "        6    0.000    0.000    0.000    0.000 threading.py:1062(_wait_for_tstate_lock)\n",
      "        6    0.000    0.000    0.000    0.000 threading.py:1104(is_alive)\n",
      "        6    0.000    0.000    0.000    0.000 threading.py:506(is_set)\n",
      "       12    0.000    0.000    0.000    0.000 typing.py:1019(_abc_negative_cache)\n",
      "        4    0.000    0.000    0.000    0.000 typing.py:1025(_abc_negative_cache)\n",
      "        9    0.000    0.000    0.000    0.000 typing.py:1033(_abc_negative_cache_version)\n",
      "        4    0.000    0.000    0.000    0.000 typing.py:1039(_abc_negative_cache_version)\n",
      "       14    0.000    0.000    0.000    0.000 typing.py:1089(__eq__)\n",
      "     18/5    0.000    0.000    0.001    0.000 typing.py:1145(__subclasscheck__)\n",
      "     16/8    0.000    0.000    0.000    0.000 typing.py:1164(__setattr__)\n",
      "        3    0.000    0.000    0.000    0.000 typing.py:875(__extrahook__)\n",
      "        4    0.000    0.000    0.000    0.000 typing.py:889(__extrahook__)\n",
      "        2    0.006    0.003    0.006    0.003 {built-in method _collections._count_elements}\n",
      "      198    0.000    0.000    0.000    0.000 {built-in method _thread.get_ident}\n",
      "        6    0.000    0.000    0.000    0.000 {built-in method builtins.compile}\n",
      "        6    0.000    0.000    0.011    0.002 {built-in method builtins.exec}\n",
      "       17    0.000    0.000    0.000    0.000 {built-in method builtins.getattr}\n",
      "      198    0.000    0.000    0.000    0.000 {built-in method builtins.id}\n",
      "     63/6    0.000    0.000    0.001    0.000 {built-in method builtins.isinstance}\n",
      "     43/5    0.000    0.000    0.001    0.000 {built-in method builtins.issubclass}\n",
      "        6    0.000    0.000    0.000    0.000 {built-in method builtins.len}\n",
      "        2    0.000    0.000    0.000    0.000 {built-in method builtins.print}\n",
      "        4    0.000    0.000    0.000    0.000 {built-in method posix.getpid}\n",
      "        9    0.000    0.000    0.000    0.000 {built-in method sys._getframe}\n",
      "       20    0.000    0.000    0.000    0.000 {method '__subclasses__' of 'type' objects}\n",
      "        6    0.000    0.000    0.000    0.000 {method 'acquire' of '_thread.lock' objects}\n",
      "      232    0.000    0.000    0.000    0.000 {method 'add' of 'set' objects}\n",
      "        6    0.000    0.000    0.000    0.000 {method 'append' of 'collections.deque' objects}\n",
      "       99    0.000    0.000    0.000    0.000 {method 'append' of 'list' objects}\n",
      "        2    0.000    0.000    0.000    0.000 {method 'disable' of '_lsprof.Profiler' objects}\n",
      "      198    0.000    0.000    0.000    0.000 {method 'discard' of 'set' objects}\n",
      "        2    0.000    0.000    0.002    0.001 {method 'format' of 'str' objects}\n",
      "      198    0.000    0.000    0.000    0.000 {method 'item' of 'numpy.ndarray' objects}\n",
      "        1    0.000    0.000    0.000    0.000 {method 'items' of 'dict' objects}\n",
      "       17    0.000    0.000    0.000    0.000 {method 'remove' of 'set' objects}\n",
      "       32    0.000    0.000    0.000    0.000 {method 'startswith' of 'str' objects}\n",
      "\n",
      "\n"
     ]
    }
   ],
   "source": [
    "profile.enable()\n",
    "duplicates2 = findDuplicates2(my_array)\n",
    "print('The following elements have duplicate entries using solution two: {}'.format(duplicates2))    \n",
    "profile.disable()\n",
    "profile.print_stats()"
   ]
  },
  {
   "cell_type": "code",
   "execution_count": 5,
   "metadata": {
    "ExecuteTime": {
     "end_time": "2020-04-02T00:25:56.840859Z",
     "start_time": "2020-04-02T00:25:56.807646Z"
    }
   },
   "outputs": [
    {
     "data": {
      "text/plain": [
       "True"
      ]
     },
     "execution_count": 5,
     "metadata": {},
     "output_type": "execute_result"
    }
   ],
   "source": [
    "duplicates == duplicates2"
   ]
  },
  {
   "cell_type": "markdown",
   "metadata": {},
   "source": [
    "Note: List comprehension is slower! (0.012 s vs 0.007 s) "
   ]
  }
 ],
 "metadata": {
  "kernelspec": {
   "display_name": "Python 3",
   "language": "python",
   "name": "python3"
  },
  "language_info": {
   "codemirror_mode": {
    "name": "ipython",
    "version": 3
   },
   "file_extension": ".py",
   "mimetype": "text/x-python",
   "name": "python",
   "nbconvert_exporter": "python",
   "pygments_lexer": "ipython3",
   "version": "3.6.4"
  },
  "toc": {
   "base_numbering": 1,
   "nav_menu": {},
   "number_sections": true,
   "sideBar": true,
   "skip_h1_title": true,
   "title_cell": "Table of Contents",
   "title_sidebar": "Contents",
   "toc_cell": false,
   "toc_position": {},
   "toc_section_display": true,
   "toc_window_display": false
  },
  "varInspector": {
   "cols": {
    "lenName": 16,
    "lenType": 16,
    "lenVar": 40
   },
   "kernels_config": {
    "python": {
     "delete_cmd_postfix": "",
     "delete_cmd_prefix": "del ",
     "library": "var_list.py",
     "varRefreshCmd": "print(var_dic_list())"
    },
    "r": {
     "delete_cmd_postfix": ") ",
     "delete_cmd_prefix": "rm(",
     "library": "var_list.r",
     "varRefreshCmd": "cat(var_dic_list()) "
    }
   },
   "types_to_exclude": [
    "module",
    "function",
    "builtin_function_or_method",
    "instance",
    "_Feature"
   ],
   "window_display": false
  }
 },
 "nbformat": 4,
 "nbformat_minor": 2
}
