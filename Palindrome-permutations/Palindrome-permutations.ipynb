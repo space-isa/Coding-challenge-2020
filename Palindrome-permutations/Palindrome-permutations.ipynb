{
 "cells": [
  {
   "cell_type": "markdown",
   "metadata": {},
   "source": [
    "# Palindrome permutations\n",
    "2020.01.28"
   ]
  },
  {
   "cell_type": "markdown",
   "metadata": {},
   "source": [
    "## The problem: \n",
    "[From: Daily Coding Challenge]\n",
    "\n",
    "Given a string, determine whether any permutation of it is a palindrome.\n",
    "\n",
    "For example, carrace should return true, since it can be rearranged to form racecar, which is a palindrome. daily should return false, since there's no rearrangement that can form a palindrome.\n",
    "\n",
    "## What we know: \n",
    "\n",
    "- Input: a string\n",
    "- Output: boolean (true, false) \n",
    "- A palindrome is a word that is spelt the same forwards and backwards. \n",
    "- We can take advantage of symmetry \n",
    "- The minimum number of characters we need for a palindrome is 2 (since we're not assuming the use of real words).  \n",
    "\n",
    "### Q&As (questions and assumptions):  \n",
    "\n",
    "- Q: Can a given string contain alphanumeric combinations? \n",
    "\n",
    "- A: In theory, yes. But let's stick to alphabetical characters.\n",
    "\n",
    "\n",
    "- Q: Will the inputs be real words?\n",
    "\n",
    "- A: Not necessarily. \n",
    "\n",
    "\n",
    "- Q: Can a possible input be an empty string? \n",
    "\n",
    "- A: Don't see why not! \n",
    "\n",
    "\n",
    "- Q: Can you sort the string? \n",
    "\n",
    "- A: Let's try this without sorting. \n",
    "\n",
    "### Cases to consider: \n",
    "1) We're given an empty string."
   ]
  },
  {
   "cell_type": "markdown",
   "metadata": {},
   "source": [
    "# Lets begin! "
   ]
  },
  {
   "cell_type": "code",
   "execution_count": 11,
   "metadata": {
    "ExecuteTime": {
     "end_time": "2020-02-18T05:24:06.976197Z",
     "start_time": "2020-02-18T05:24:06.959017Z"
    }
   },
   "outputs": [],
   "source": [
    "def palindrome(my_string):\n",
    "    '''Given a string, this function returns True/False depending on whether or not it is a\n",
    "    palindrome. If the string is empty, it returns \"The string is empty\".'''\n",
    "    char_count = {}\n",
    "    num_spaces = len(my_string) - 1\n",
    "    for chars in my_string:\n",
    "            if chars not in char_count:\n",
    "                char_count[chars] = 1\n",
    "            else: \n",
    "                char_count[chars] += 1\n",
    "                if char_count[chars] == 2:\n",
    "                    char_count[chars] = 0\n",
    "#     print(char_count)\n",
    "#     print(sum(list(char_count.values())))\n",
    "        \n",
    "    if(len(my_string) == 0):\n",
    "        return 'The string is empty'\n",
    "    elif len(my_string) %2 == 0: \n",
    "#         print('Even number of characters:', len(my_string))\n",
    "        if sum(list(char_count.values())) == 0:\n",
    "            return 'True'\n",
    "        else:\n",
    "            return 'False'\n",
    "    else: \n",
    "#         print('Odd number of characters:', len(my_string))\n",
    "        if sum(list(char_count.values())) > 1:\n",
    "            return 'False'\n",
    "        else:\n",
    "            return 'True'"
   ]
  },
  {
   "cell_type": "code",
   "execution_count": 12,
   "metadata": {
    "ExecuteTime": {
     "end_time": "2020-02-18T05:24:09.171547Z",
     "start_time": "2020-02-18T05:24:09.166377Z"
    }
   },
   "outputs": [],
   "source": [
    "assert palindrome(my_string = 'asdflak') == 'False'\n",
    "assert palindrome(my_string= 'aabaa') == 'True'\n",
    "assert palindrome(my_string='') == 'The string is empty'"
   ]
  }
 ],
 "metadata": {
  "kernelspec": {
   "display_name": "Python 3",
   "language": "python",
   "name": "python3"
  },
  "language_info": {
   "codemirror_mode": {
    "name": "ipython",
    "version": 3
   },
   "file_extension": ".py",
   "mimetype": "text/x-python",
   "name": "python",
   "nbconvert_exporter": "python",
   "pygments_lexer": "ipython3",
   "version": "3.6.4"
  },
  "toc": {
   "base_numbering": 1,
   "nav_menu": {},
   "number_sections": true,
   "sideBar": true,
   "skip_h1_title": true,
   "title_cell": "Table of Contents",
   "title_sidebar": "Contents",
   "toc_cell": false,
   "toc_position": {},
   "toc_section_display": true,
   "toc_window_display": false
  },
  "varInspector": {
   "cols": {
    "lenName": 16,
    "lenType": 16,
    "lenVar": 40
   },
   "kernels_config": {
    "python": {
     "delete_cmd_postfix": "",
     "delete_cmd_prefix": "del ",
     "library": "var_list.py",
     "varRefreshCmd": "print(var_dic_list())"
    },
    "r": {
     "delete_cmd_postfix": ") ",
     "delete_cmd_prefix": "rm(",
     "library": "var_list.r",
     "varRefreshCmd": "cat(var_dic_list()) "
    }
   },
   "types_to_exclude": [
    "module",
    "function",
    "builtin_function_or_method",
    "instance",
    "_Feature"
   ],
   "window_display": false
  }
 },
 "nbformat": 4,
 "nbformat_minor": 2
}
