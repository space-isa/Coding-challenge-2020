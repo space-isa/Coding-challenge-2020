{
 "cells": [
  {
   "cell_type": "markdown",
   "metadata": {},
   "source": [
    "# Sending email with Python\n",
    "\n",
    "Following along with tutorial: https://realpython.com/python-send-email/#sending-a-plain-text-email"
   ]
  },
  {
   "cell_type": "markdown",
   "metadata": {},
   "source": [
    "## The SMT...what? \n",
    "\n",
    "**Wikipedia:** \"The Simple Mail Transfer Protocol (SMTP) is a communication protocol for electronic mail transmission.\"\n",
    "\n",
    "<div style=\"display: flex; justify-content: row;\">\n",
    "    <img src=\"https://media.giphy.com/media/T0H8OTMGl7ZzW/giphy.gif\">\n",
    "</div>\n",
    "\n",
    "**Translation:** The Simple Mail Transfor Protocol is a system of rules that allows two or more entities (humans, trolls, bots, etc.) to communicate via email.  \n",
    "\n",
    "<div style=\"display: flex; justify-content: row;\">\n",
    "    <img src=\"https://media.giphy.com/media/DupMFENd0g6bu/giphy.gif\">\n",
    "</div>\n",
    "\n",
    "## What's it *actually* used for?\n",
    "\n",
    "**Wikipedia:** \"User-level email clients typically use SMTP only for sending messages to a mail server for relaying, and typically submit outgoing email to the mail server on port 587 or 465 as per RFC 8314.\"\n",
    "\n",
    "\n",
    "<div style=\"display: flex; justify-content: row;\">\n",
    "    <img src=\"https://media.giphy.com/media/RKS1pHGiUUZ2g/giphy.gif\">\n",
    "</div>\n",
    "\n",
    "\n",
    "**Translation:** There are different protocols that the programs we use to access and manage our emails use for messages: one for sending (SMTP), and two for reciving (we won't worry about those now). In order to ensure that our outbound emails stay secure on their way to a server (a mail carrier of sorts), we send them out over a port that has been agreed on as standard (port 465 or 587). \n",
    "\n",
    "<div style=\"display: flex; justify-content: row;\">\n",
    "    <img src=\"https://media.giphy.com/media/JUGrMkg1JQlMnr9qLE/giphy.gif\">\n",
    "</div>\n",
    "\n",
    "## Ok, so how do we use it? \n",
    "\n",
    "Before we can jump into the code, you need to do one of two things (see tutorial link for deets):\n",
    "\n",
    "    1) Create a \"throwaway\" Gmail account \n",
    "    2) Figure out how to gain access to your Gmail creds with a Python script. \n",
    "    \n",
    "Once you've got access to a Gmail account, sending a plain-text email is pretty straightforward! Below we have two functions: one that contains the body of the email, and the other that will send it. \n",
    "\n",
    "## A brief note on security: \n",
    "### Transport Layer Security (TLS) vs. Secure Sockets Layer (SSL) \n",
    "\n",
    "\n",
    "Which is more secure?\n",
    "\n",
    "    \"SSL v3.0 is effectively “dead” as a useful security protocol.\" \n",
    "    \"Subsequent versions of TLS...are significantly more secure and fix many vulnerabilities present in SSL...\"\n",
    "    \n",
    "*Note that the tutorial uses SSL instead of TLS, corresponding to port 465.* \n",
    "\n",
    "-From: https://luxsci.com/blog/ssl-versus-tls-whats-the-difference.html"
   ]
  },
  {
   "cell_type": "markdown",
   "metadata": {},
   "source": [
    "## Ok, let's do this!"
   ]
  },
  {
   "cell_type": "code",
   "execution_count": null,
   "metadata": {
    "ExecuteTime": {
     "start_time": "2020-02-25T05:15:41.717Z"
    }
   },
   "outputs": [],
   "source": [
    "import smtplib, ssl\n",
    "\n",
    "def writeMessage():\n",
    "    '''Takes a string that will become the message of an outbound email.\n",
    "    The message contains a subject line, body, and closing signature.'''\n",
    "    message = \"\"\"\\\n",
    "    Subject: Hey!\n",
    "\n",
    "    This (plain-text) email was sent to you through the magical world of Python. \n",
    "\n",
    "    Stay curious, \n",
    "    Isa\"\"\"\n",
    "    return message\n",
    "\n",
    "message = writeMessage()\n",
    "\n",
    "def sendEmail(message):\n",
    "    '''This function takes a message (string) as an input.\n",
    "    Using an SSL certificate, user's credentials are accessed (login),\n",
    "    and the message is sent in an outbound email.\n",
    "    To send a message to yourself, the sender and receiver addresses should be the same.'''\n",
    "    \n",
    "    port = 465  # Port number for SSL certificate\n",
    "    smtp_server = \"smtp.gmail.com\"\n",
    "    sender_email = \"my.email@gmail.com\"  # sender address\n",
    "    receiver_email = \"receiver.email@gmail.com\"  # receiver address\n",
    "    password = input(\"Type your password and press enter: \")\n",
    "\n",
    "    # Creates a secure SSL context\n",
    "    context = ssl.create_default_context()\n",
    "\n",
    "    with smtplib.SMTP_SSL(\"smtp.gmail.com\", port, context=context) as server:\n",
    "        server.login(sender_email, password) #login\n",
    "        server.sendmail(sender_email, receiver_email, message) #send message\n",
    "        \n",
    "sendEmail(message)"
   ]
  },
  {
   "cell_type": "markdown",
   "metadata": {},
   "source": [
    "<div style=\"display: flex; justify-content: row;\">\n",
    "    <img src=\"https://media.giphy.com/media/12Up26fqbaU45W/giphy.gif\">\n",
    "</div>"
   ]
  }
 ],
 "metadata": {
  "kernelspec": {
   "display_name": "Python 3",
   "language": "python",
   "name": "python3"
  },
  "language_info": {
   "codemirror_mode": {
    "name": "ipython",
    "version": 3
   },
   "file_extension": ".py",
   "mimetype": "text/x-python",
   "name": "python",
   "nbconvert_exporter": "python",
   "pygments_lexer": "ipython3",
   "version": "3.6.4"
  },
  "toc": {
   "base_numbering": 1,
   "nav_menu": {},
   "number_sections": true,
   "sideBar": true,
   "skip_h1_title": true,
   "title_cell": "Table of Contents",
   "title_sidebar": "Contents",
   "toc_cell": false,
   "toc_position": {},
   "toc_section_display": true,
   "toc_window_display": false
  },
  "varInspector": {
   "cols": {
    "lenName": 16,
    "lenType": 16,
    "lenVar": 40
   },
   "kernels_config": {
    "python": {
     "delete_cmd_postfix": "",
     "delete_cmd_prefix": "del ",
     "library": "var_list.py",
     "varRefreshCmd": "print(var_dic_list())"
    },
    "r": {
     "delete_cmd_postfix": ") ",
     "delete_cmd_prefix": "rm(",
     "library": "var_list.r",
     "varRefreshCmd": "cat(var_dic_list()) "
    }
   },
   "types_to_exclude": [
    "module",
    "function",
    "builtin_function_or_method",
    "instance",
    "_Feature"
   ],
   "window_display": false
  }
 },
 "nbformat": 4,
 "nbformat_minor": 2
}
