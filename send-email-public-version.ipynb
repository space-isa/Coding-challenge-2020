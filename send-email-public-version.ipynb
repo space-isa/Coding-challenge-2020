{
 "cells": [
  {
   "cell_type": "markdown",
   "metadata": {},
   "source": [
    "## Send email with python\n",
    "\n",
    "Following along with tutorial: https://realpython.com/python-send-email/#sending-a-plain-text-email"
   ]
  },
  {
   "cell_type": "code",
   "execution_count": null,
   "metadata": {
    "ExecuteTime": {
     "end_time": "2020-02-19T04:57:41.609968Z",
     "start_time": "2020-02-19T04:57:35.676235Z"
    }
   },
   "outputs": [],
   "source": [
    "import smtplib, ssl\n",
    "\n",
    "def writeMessage():\n",
    "    message = \"\"\"\\\n",
    "    Subject: Hey!\n",
    "\n",
    "    This (plain-text) email was sent to you through the magical world of Python. \n",
    "\n",
    "    Stay curious, \n",
    "    Isa\"\"\"\n",
    "    return message\n",
    "\n",
    "message = writeMessage()\n",
    "\n",
    "def sendEmail(message):\n",
    "    port = 465  # Port number for SSL\n",
    "    smtp_server = \"smtp.gmail.com\"\n",
    "    sender_email = \"my.email@gmail.com\"  # sender address\n",
    "    receiver_email = \"receiver.email@gmail.com\"  # receiver address\n",
    "    password = input(\"Type your password and press enter: \")\n",
    "\n",
    "    # Creates a secure SSL context\n",
    "    context = ssl.create_default_context()\n",
    "\n",
    "    with smtplib.SMTP_SSL(\"smtp.gmail.com\", port, context=context) as server:\n",
    "        server.login(sender_email, password) #login\n",
    "        server.sendmail(sender_email, receiver_email, message) #send message\n",
    "        \n",
    "sendEmail(message)"
   ]
  }
 ],
 "metadata": {
  "kernelspec": {
   "display_name": "Python 3",
   "language": "python",
   "name": "python3"
  },
  "language_info": {
   "codemirror_mode": {
    "name": "ipython",
    "version": 3
   },
   "file_extension": ".py",
   "mimetype": "text/x-python",
   "name": "python",
   "nbconvert_exporter": "python",
   "pygments_lexer": "ipython3",
   "version": "3.6.4"
  },
  "toc": {
   "base_numbering": 1,
   "nav_menu": {},
   "number_sections": true,
   "sideBar": true,
   "skip_h1_title": true,
   "title_cell": "Table of Contents",
   "title_sidebar": "Contents",
   "toc_cell": false,
   "toc_position": {},
   "toc_section_display": true,
   "toc_window_display": false
  },
  "varInspector": {
   "cols": {
    "lenName": 16,
    "lenType": 16,
    "lenVar": 40
   },
   "kernels_config": {
    "python": {
     "delete_cmd_postfix": "",
     "delete_cmd_prefix": "del ",
     "library": "var_list.py",
     "varRefreshCmd": "print(var_dic_list())"
    },
    "r": {
     "delete_cmd_postfix": ") ",
     "delete_cmd_prefix": "rm(",
     "library": "var_list.r",
     "varRefreshCmd": "cat(var_dic_list()) "
    }
   },
   "types_to_exclude": [
    "module",
    "function",
    "builtin_function_or_method",
    "instance",
    "_Feature"
   ],
   "window_display": false
  }
 },
 "nbformat": 4,
 "nbformat_minor": 2
}
