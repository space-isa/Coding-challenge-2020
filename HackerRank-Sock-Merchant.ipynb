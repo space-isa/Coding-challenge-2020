{
 "cells": [
  {
   "cell_type": "markdown",
   "metadata": {},
   "source": [
    "## Sock Merchant problem"
   ]
  },
  {
   "cell_type": "code",
   "execution_count": 10,
   "metadata": {
    "ExecuteTime": {
     "end_time": "2020-03-05T04:15:36.137405Z",
     "start_time": "2020-03-05T04:15:36.129049Z"
    }
   },
   "outputs": [
    {
     "name": "stdout",
     "output_type": "stream",
     "text": [
      "There are 3 pairs in this array.\n",
      "There are 4 pairs in this array.\n",
      "There are 1 pairs in this array.\n"
     ]
    }
   ],
   "source": [
    "def pairs(array, num_socks):\n",
    "    ''' Creates a dict containing the number of socks for each color in the input array.\n",
    "       Dict is then parsed to find number of all possible pairs. '''\n",
    "    \n",
    "    assert (len(array) == 0) == False, \"There are no socks in this array.\"\n",
    "    socks_sort = {i: array.count(i) for i in array}\n",
    "    n_pairs = 0\n",
    "    for keys, vals in socks_sort.items():\n",
    "        if vals // 2 != 0:\n",
    "            n_pairs += (vals // 2)\n",
    "    print('There are {} pairs in this array.'.format(n_pairs))\n",
    "    return n_pairs\n",
    "\n",
    "\n",
    "pairs([10, 20, 20, 10, 10, 30, 50, 10, 20], 9)\n",
    "\n",
    "assert pairs([10, 20, 20, 10, 10, 30, 50, 10, 20, 20], 10) == 4, 'Error'\n",
    "assert pairs([1, 1, 1], 3) == 1, 'Error'"
   ]
  }
 ],
 "metadata": {
  "kernelspec": {
   "display_name": "Python 3",
   "language": "python",
   "name": "python3"
  },
  "language_info": {
   "codemirror_mode": {
    "name": "ipython",
    "version": 3
   },
   "file_extension": ".py",
   "mimetype": "text/x-python",
   "name": "python",
   "nbconvert_exporter": "python",
   "pygments_lexer": "ipython3",
   "version": "3.6.4"
  },
  "toc": {
   "base_numbering": 1,
   "nav_menu": {},
   "number_sections": true,
   "sideBar": true,
   "skip_h1_title": true,
   "title_cell": "Table of Contents",
   "title_sidebar": "Contents",
   "toc_cell": false,
   "toc_position": {},
   "toc_section_display": true,
   "toc_window_display": false
  },
  "varInspector": {
   "cols": {
    "lenName": 16,
    "lenType": 16,
    "lenVar": 40
   },
   "kernels_config": {
    "python": {
     "delete_cmd_postfix": "",
     "delete_cmd_prefix": "del ",
     "library": "var_list.py",
     "varRefreshCmd": "print(var_dic_list())"
    },
    "r": {
     "delete_cmd_postfix": ") ",
     "delete_cmd_prefix": "rm(",
     "library": "var_list.r",
     "varRefreshCmd": "cat(var_dic_list()) "
    }
   },
   "types_to_exclude": [
    "module",
    "function",
    "builtin_function_or_method",
    "instance",
    "_Feature"
   ],
   "window_display": false
  }
 },
 "nbformat": 4,
 "nbformat_minor": 2
}
