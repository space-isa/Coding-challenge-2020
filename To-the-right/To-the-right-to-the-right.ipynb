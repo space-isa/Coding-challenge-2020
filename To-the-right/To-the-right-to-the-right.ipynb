{
 "cells": [
  {
   "cell_type": "markdown",
   "metadata": {},
   "source": [
    "# To the right, to the right\n",
    "2020.01.30"
   ]
  },
  {
   "cell_type": "markdown",
   "metadata": {},
   "source": [
    "## The problem: \n",
    "[From: Daily Coding Challenge]\n",
    "\n",
    "Given an array of integers, return a new array where each element in the new array is the number of smaller elements to the right of that element in the original input array.\n",
    "\n",
    "For example, given the array [3, 4, 9, 6, 1], return [1, 1, 2, 1, 0], since:\n",
    "\n",
    "- There is 1 smaller element to the right of 3\n",
    "- There is 1 smaller element to the right of 4\n",
    "- There are 2 smaller elements to the right of 9\n",
    "- There is 1 smaller element to the right of 6\n",
    "- There are no smaller elements to the right of 1\n",
    "\n",
    "## What we know: \n",
    "\n",
    "- Input: a list of elements  \n",
    "- Output: a list of integers \n",
    "- We can find the largest and smallest elements. \n",
    "- The final element in the new array will always be 0. \n",
    "\n",
    "### Q&As (questions and assumptions):  \n",
    "\n",
    "- Q: Can there be duplicate elements? (Let's go with no, for now...)\n",
    "- A: Elements are limited to integers. \n",
    "\n",
    "### Cases to consider: \n",
    "1) Empty list. \n",
    "\n",
    "2) Duplicate elements. "
   ]
  },
  {
   "cell_type": "markdown",
   "metadata": {},
   "source": [
    "# Lets begin! "
   ]
  },
  {
   "cell_type": "code",
   "execution_count": 3,
   "metadata": {
    "ExecuteTime": {
     "end_time": "2020-02-20T00:59:09.806681Z",
     "start_time": "2020-02-20T00:59:09.766621Z"
    }
   },
   "outputs": [
    {
     "data": {
      "text/plain": [
       "array([ 1.,  1.,  2.,  1.,  0.])"
      ]
     },
     "execution_count": 3,
     "metadata": {},
     "output_type": "execute_result"
    }
   ],
   "source": [
    "import numpy as np \n",
    "\n",
    "def _2theRight(my_list):\n",
    "    '''Returns an array where each element in the new array is the number of smaller \n",
    "    elements to the right of that element in the original input array.'''\n",
    "\n",
    "    if len(my_list) == 0: \n",
    "        return('This list is empty.')\n",
    "    \n",
    "    new_list = np.zeros(len(my_list))\n",
    "    sorted_list = list(np.sort(my_list)) \n",
    "    \n",
    "    '''We know the final value in the new array will be 0.'''\n",
    "    new_list[len(my_list)-1] = 0\n",
    "    \n",
    "    '''Splitting the problem into two parts, since we can find the largest \n",
    "    value in the input array.'''\n",
    "    \n",
    "    half_list = my_list[:my_list.index(max(sorted_list))]\n",
    "    max_to_end = my_list[my_list.index(max(sorted_list)):] \n",
    "    \n",
    "    '''The easiest place to start is by splitting the input \n",
    "    at the index containing the largest value.'''\n",
    "    for i in range(len(my_list)):\n",
    "        if max(sorted_list) in max_to_end:\n",
    "            new_list[my_list.index(max(sorted_list))] =  (len(my_list) - my_list.index(max(sorted_list)) -1)\n",
    "            sorted_list.remove(max(sorted_list))\n",
    "                \n",
    "    '''Looking at our remaining values, we have to make sure \n",
    "    that we consider only values to the right.'''\n",
    "    for elements in half_list:\n",
    "        for items in my_list:\n",
    "            if my_list.index(elements) == 0: \n",
    "                if elements > items: \n",
    "                    new_list[my_list.index(max(sorted_list))] += 1\n",
    "                    sorted_list.remove(max(sorted_list))\n",
    "            else: \n",
    "                if elements > items in my_list[my_list.index(elements):]:\n",
    "                    new_list[my_list.index(max(sorted_list))] += 1\n",
    "                    sorted_list.remove(max(sorted_list))\n",
    "    return new_list\n",
    "\n",
    "'''Example: Given'''\n",
    "_2theRight(my_list =  [3, 4, 9, 6, 1])"
   ]
  }
 ],
 "metadata": {
  "kernelspec": {
   "display_name": "Python 3",
   "language": "python",
   "name": "python3"
  },
  "language_info": {
   "codemirror_mode": {
    "name": "ipython",
    "version": 3
   },
   "file_extension": ".py",
   "mimetype": "text/x-python",
   "name": "python",
   "nbconvert_exporter": "python",
   "pygments_lexer": "ipython3",
   "version": "3.6.4"
  },
  "toc": {
   "base_numbering": 1,
   "nav_menu": {},
   "number_sections": true,
   "sideBar": true,
   "skip_h1_title": true,
   "title_cell": "Table of Contents",
   "title_sidebar": "Contents",
   "toc_cell": false,
   "toc_position": {},
   "toc_section_display": true,
   "toc_window_display": false
  },
  "varInspector": {
   "cols": {
    "lenName": 16,
    "lenType": 16,
    "lenVar": 40
   },
   "kernels_config": {
    "python": {
     "delete_cmd_postfix": "",
     "delete_cmd_prefix": "del ",
     "library": "var_list.py",
     "varRefreshCmd": "print(var_dic_list())"
    },
    "r": {
     "delete_cmd_postfix": ") ",
     "delete_cmd_prefix": "rm(",
     "library": "var_list.r",
     "varRefreshCmd": "cat(var_dic_list()) "
    }
   },
   "types_to_exclude": [
    "module",
    "function",
    "builtin_function_or_method",
    "instance",
    "_Feature"
   ],
   "window_display": false
  }
 },
 "nbformat": 4,
 "nbformat_minor": 2
}
