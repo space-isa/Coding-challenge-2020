{
 "cells": [
  {
   "cell_type": "markdown",
   "metadata": {},
   "source": [
    "# Find the majority element \n",
    "2020.01.30"
   ]
  },
  {
   "cell_type": "markdown",
   "metadata": {},
   "source": [
    "## The problem: \n",
    "[From: Daily Coding Challenge]\n",
    "\n",
    "Given a list of elements, find the majority element, which appears more than half the time (> floor(len(lst) / 2.0)).\n",
    "\n",
    "You can assume that such element exists.\n",
    "\n",
    "For example, given [1, 2, 1, 1, 3, 4, 0], return 1.\n",
    "\n",
    "## What we know: \n",
    "\n",
    "- Input: a sorted list of integers \n",
    "- Output: a sorted list of integers \n",
    "\n",
    "### Q&As (questions and assumptions):  \n",
    "\n",
    "- A: Such element exists (given) \n",
    "    - --> no need for empty sets? \n",
    "    - A: there is ONLY one element that appears more than half the time\n",
    "    \n",
    "    \n",
    " - Q: Can the input be anything other than integers?\n",
    "\n",
    "### Cases to consider: \n",
    "1) Non-integer inputs. "
   ]
  },
  {
   "cell_type": "markdown",
   "metadata": {},
   "source": [
    "# Lets begin! "
   ]
  },
  {
   "cell_type": "markdown",
   "metadata": {},
   "source": [
    "# What will this funtion do? \n",
    "\n",
    "1) Function takes a list as an input and will determine both its length and half its length.\n",
    "\n",
    "2) We create an empty counter dictionary. \n",
    "\n",
    "2) For each element in the array, we will check to see if it exists in our dict. If yes, we up the count by one. If no, we add it to the dict with a count of 1. \n",
    "\n",
    "3) We will save the counts to a seperate list, and check the first element:\n",
    "- If the element is greater than or equal to half the length of the input list, we will return the element.  \n"
   ]
  },
  {
   "cell_type": "code",
   "execution_count": 1,
   "metadata": {
    "ExecuteTime": {
     "end_time": "2020-01-31T05:01:52.603761Z",
     "start_time": "2020-01-31T05:01:52.336928Z"
    }
   },
   "outputs": [],
   "source": [
    "import numpy as np \n",
    "\n",
    "def majorityElement(my_list):\n",
    "    '''Takes an  array as an input and outputs \n",
    "    the element that occurs more than half the time.'''\n",
    "    \n",
    "    half_list =  np.floor(len(my_list) / 2)\n",
    "    \n",
    "    '''Note: The counter will automatically sort the inputs\n",
    "    in descending order!'''\n",
    "    counter = {}\n",
    "    \n",
    "    for element in my_list: \n",
    "        if element in counter: \n",
    "            counter[element] += 1\n",
    "        else: \n",
    "            counter[element] = 1\n",
    "            \n",
    "    highest_count = list(counter.values())[0]\n",
    "    highest_elem= list(counter.keys())[0]\n",
    "    \n",
    "    if highest_count >= half_list: \n",
    "        return highest_elem\n",
    "    else: \n",
    "        return('There is no one element that occurs at least half the time. Check your input and try again.')"
   ]
  },
  {
   "cell_type": "code",
   "execution_count": 2,
   "metadata": {
    "ExecuteTime": {
     "end_time": "2020-01-31T05:01:52.623756Z",
     "start_time": "2020-01-31T05:01:52.607101Z"
    }
   },
   "outputs": [
    {
     "data": {
      "text/plain": [
       "1"
      ]
     },
     "execution_count": 2,
     "metadata": {},
     "output_type": "execute_result"
    }
   ],
   "source": [
    "'''Example: Given'''\n",
    "majorityElement(my_list =  [1, 2, 1, 1, 3, 4, 0])"
   ]
  },
  {
   "cell_type": "code",
   "execution_count": 3,
   "metadata": {
    "ExecuteTime": {
     "end_time": "2020-01-31T05:01:52.635629Z",
     "start_time": "2020-01-31T05:01:52.626667Z"
    }
   },
   "outputs": [
    {
     "data": {
      "text/plain": [
       "'There is no one element that occurs at least half the time. Check your input and try again.'"
      ]
     },
     "execution_count": 3,
     "metadata": {},
     "output_type": "execute_result"
    }
   ],
   "source": [
    "'''Example: A tie'''\n",
    "majorityElement(my_list = ['!', '!', 1, 1, 1, 'e', 't', '!'])"
   ]
  },
  {
   "cell_type": "code",
   "execution_count": 4,
   "metadata": {
    "ExecuteTime": {
     "end_time": "2020-01-31T05:01:52.648974Z",
     "start_time": "2020-01-31T05:01:52.640145Z"
    }
   },
   "outputs": [
    {
     "data": {
      "text/plain": [
       "'!'"
      ]
     },
     "execution_count": 4,
     "metadata": {},
     "output_type": "execute_result"
    }
   ],
   "source": [
    "'''Example: Mixed types'''\n",
    "majorityElement(my_list = ['!', '!', 1, 1.5, 'e', 't', '!'])"
   ]
  }
 ],
 "metadata": {
  "kernelspec": {
   "display_name": "Python 3",
   "language": "python",
   "name": "python3"
  },
  "language_info": {
   "codemirror_mode": {
    "name": "ipython",
    "version": 3
   },
   "file_extension": ".py",
   "mimetype": "text/x-python",
   "name": "python",
   "nbconvert_exporter": "python",
   "pygments_lexer": "ipython3",
   "version": "3.6.4"
  },
  "toc": {
   "base_numbering": 1,
   "nav_menu": {},
   "number_sections": true,
   "sideBar": true,
   "skip_h1_title": true,
   "title_cell": "Table of Contents",
   "title_sidebar": "Contents",
   "toc_cell": false,
   "toc_position": {},
   "toc_section_display": true,
   "toc_window_display": false
  },
  "varInspector": {
   "cols": {
    "lenName": 16,
    "lenType": 16,
    "lenVar": 40
   },
   "kernels_config": {
    "python": {
     "delete_cmd_postfix": "",
     "delete_cmd_prefix": "del ",
     "library": "var_list.py",
     "varRefreshCmd": "print(var_dic_list())"
    },
    "r": {
     "delete_cmd_postfix": ") ",
     "delete_cmd_prefix": "rm(",
     "library": "var_list.r",
     "varRefreshCmd": "cat(var_dic_list()) "
    }
   },
   "types_to_exclude": [
    "module",
    "function",
    "builtin_function_or_method",
    "instance",
    "_Feature"
   ],
   "window_display": false
  }
 },
 "nbformat": 4,
 "nbformat_minor": 2
}
