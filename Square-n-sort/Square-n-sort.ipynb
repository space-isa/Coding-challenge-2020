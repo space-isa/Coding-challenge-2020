{
 "cells": [
  {
   "cell_type": "markdown",
   "metadata": {},
   "source": [
    "# Square-n-sort\n",
    "2020.01.29"
   ]
  },
  {
   "cell_type": "markdown",
   "metadata": {},
   "source": [
    "## The problem: \n",
    "[From: Daily Coding Challenge]\n",
    "\n",
    "Given a sorted list of integers, square the elements and give the output in sorted order.\n",
    "\n",
    "For example, given [-9, -2, 0, 2, 3], return [0, 4, 4, 9, 81].\n",
    "\n",
    "## What we know: \n",
    "\n",
    "- Input: a sorted list of integers \n",
    "- Output: a sorted list of integers \n",
    "\n",
    "### Q&As (questions and assumptions):  \n",
    "\n",
    "- Q: Can a possible input be an empty list? \n",
    "\n",
    "- A: Don't see why not! \n",
    "\n",
    "\n",
    "- Q: Can we count on the input to always be sorted? \n",
    "\n",
    "- A: Not if a human provides the input! \n",
    "\n",
    "### Cases to consider: \n",
    "1) We're given an empty list."
   ]
  },
  {
   "cell_type": "markdown",
   "metadata": {},
   "source": [
    "# Lets begin! "
   ]
  },
  {
   "cell_type": "markdown",
   "metadata": {},
   "source": [
    "# Pseudo code\n",
    "\n",
    "What will this funtion do? \n",
    "\n",
    "1) Function takes a sorted list as an input. \n",
    "2) For each element in the array, the element wil be squared and its squared value will be placed in a new array.\n",
    "3) Once we've gone through all the arrays, we will sort the values in the new array. Function will return this new array as the output. \n"
   ]
  },
  {
   "cell_type": "code",
   "execution_count": 1,
   "metadata": {
    "ExecuteTime": {
     "end_time": "2020-01-30T04:48:20.498622Z",
     "start_time": "2020-01-30T04:48:20.345860Z"
    }
   },
   "outputs": [],
   "source": [
    "import numpy as np \n",
    "\n",
    "def squareSort(my_array):\n",
    "    '''Takes a sorted array as an input and outputs \n",
    "    a sorted output of the square of each element.'''\n",
    "    my_array = np.sort(my_array)\n",
    "    \n",
    "    output_array = []\n",
    "    if len(my_array) == 0: \n",
    "        return 'The array is empty'\n",
    "    else: \n",
    "        for i in range(len(my_array)):\n",
    "            output_array.append(my_array[i] **2)\n",
    "\n",
    "        output_array = np.sort(output_array)\n",
    "        return output_array"
   ]
  },
  {
   "cell_type": "code",
   "execution_count": 2,
   "metadata": {
    "ExecuteTime": {
     "end_time": "2020-01-30T04:48:20.518696Z",
     "start_time": "2020-01-30T04:48:20.502072Z"
    }
   },
   "outputs": [
    {
     "data": {
      "text/plain": [
       "array([ 0,  4,  4,  9, 81])"
      ]
     },
     "execution_count": 2,
     "metadata": {},
     "output_type": "execute_result"
    }
   ],
   "source": [
    "'''Example: \n",
    "Input is a sorted list'''\n",
    "squareSort(my_array =  [-9, -2, 0, 2, 3])"
   ]
  },
  {
   "cell_type": "code",
   "execution_count": 3,
   "metadata": {
    "ExecuteTime": {
     "end_time": "2020-01-30T04:48:20.531008Z",
     "start_time": "2020-01-30T04:48:20.523240Z"
    }
   },
   "outputs": [
    {
     "data": {
      "text/plain": [
       "'The array is empty'"
      ]
     },
     "execution_count": 3,
     "metadata": {},
     "output_type": "execute_result"
    }
   ],
   "source": [
    "'''Example: \n",
    "Input is an empty list'''\n",
    "squareSort(my_array=[])"
   ]
  },
  {
   "cell_type": "code",
   "execution_count": 4,
   "metadata": {
    "ExecuteTime": {
     "end_time": "2020-01-30T04:48:20.549600Z",
     "start_time": "2020-01-30T04:48:20.536749Z"
    }
   },
   "outputs": [
    {
     "data": {
      "text/plain": [
       "array([    0,     1,     1,    16,    49,  1764, 10000])"
      ]
     },
     "execution_count": 4,
     "metadata": {},
     "output_type": "execute_result"
    }
   ],
   "source": [
    "'''Example: \n",
    "Input is an unsorted list'''\n",
    "squareSort(my_array= [1, 4 , 7, -1, 0, 100, -42])"
   ]
  }
 ],
 "metadata": {
  "kernelspec": {
   "display_name": "Python 3",
   "language": "python",
   "name": "python3"
  },
  "language_info": {
   "codemirror_mode": {
    "name": "ipython",
    "version": 3
   },
   "file_extension": ".py",
   "mimetype": "text/x-python",
   "name": "python",
   "nbconvert_exporter": "python",
   "pygments_lexer": "ipython3",
   "version": "3.6.4"
  },
  "toc": {
   "base_numbering": 1,
   "nav_menu": {},
   "number_sections": true,
   "sideBar": true,
   "skip_h1_title": true,
   "title_cell": "Table of Contents",
   "title_sidebar": "Contents",
   "toc_cell": false,
   "toc_position": {},
   "toc_section_display": true,
   "toc_window_display": false
  },
  "varInspector": {
   "cols": {
    "lenName": 16,
    "lenType": 16,
    "lenVar": 40
   },
   "kernels_config": {
    "python": {
     "delete_cmd_postfix": "",
     "delete_cmd_prefix": "del ",
     "library": "var_list.py",
     "varRefreshCmd": "print(var_dic_list())"
    },
    "r": {
     "delete_cmd_postfix": ") ",
     "delete_cmd_prefix": "rm(",
     "library": "var_list.r",
     "varRefreshCmd": "cat(var_dic_list()) "
    }
   },
   "types_to_exclude": [
    "module",
    "function",
    "builtin_function_or_method",
    "instance",
    "_Feature"
   ],
   "window_display": false
  }
 },
 "nbformat": 4,
 "nbformat_minor": 2
}
