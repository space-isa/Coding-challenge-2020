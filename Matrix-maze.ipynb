{
 "cells": [
  {
   "cell_type": "markdown",
   "metadata": {},
   "source": [
    "# Matrix Maze  \n",
    "2020.02.10"
   ]
  },
  {
   "cell_type": "markdown",
   "metadata": {},
   "source": [
    "## The problem: \n",
    "[From: Daily Coding Challenge]\n",
    "\n",
    "You are given an M by N matrix consisting of booleans that represents a board. Each True boolean represents a wall. Each False boolean represents a tile you can walk on.\n",
    "\n",
    "Given this matrix, a start coordinate, and an end coordinate, return the minimum number of steps required to reach the end coordinate from the start. If there is no possible path, then return null. You can move up, left, down, and right. You cannot move through walls. You cannot wrap around the edges of the board.\n",
    "\n",
    "## What we know: \n",
    "\n",
    "- Inputs: an MxN matrix, start coordinates, end coordinates  \n",
    "- Output: integer minimum number of steps \n",
    "\n",
    "### Q&As (questions and assumptions):  \n",
    " \n",
    "### Cases to consider: \n",
    "1) Empty matrix\n",
    "\n",
    "2) Single line (1xM)\n",
    "\n",
    "3) Large matrix \n",
    "\n",
    "### Bonus: \n",
    "\n",
    "Write code to randomly generate a board."
   ]
  },
  {
   "cell_type": "markdown",
   "metadata": {},
   "source": [
    "# Lets begin! "
   ]
  },
  {
   "cell_type": "code",
   "execution_count": 78,
   "metadata": {
    "ExecuteTime": {
     "end_time": "2020-02-11T04:07:47.526805Z",
     "start_time": "2020-02-11T04:07:47.521773Z"
    }
   },
   "outputs": [],
   "source": [
    "import numpy as np"
   ]
  },
  {
   "cell_type": "code",
   "execution_count": 77,
   "metadata": {
    "ExecuteTime": {
     "end_time": "2020-02-12T05:04:53.843306Z",
     "start_time": "2020-02-12T05:04:53.826599Z"
    }
   },
   "outputs": [
    {
     "name": "stdout",
     "output_type": "stream",
     "text": [
      "Ready to play! Start: F, End: F\n",
      "[['F' 'T' 'F' 'F']\n",
      " ['F' 'T' 'T' 'T']\n",
      " ['F' 'F' 'F' 'F']\n",
      " ['F' 'F' 'F' 'T']]\n",
      "F (3, 0)\n",
      "F (3, 1)\n",
      "F (3, 2)\n",
      "T (3, 3)\n",
      "Blocked\n",
      "F (2, 2)\n",
      "F (2, 1)\n",
      "F (2, 0)\n"
     ]
    }
   ],
   "source": [
    "np.random.seed(49)\n",
    "m = 4 \n",
    "n = 4\n",
    "dim_matrix = (m,n)\n",
    "\n",
    "start = (m-1,0)\n",
    "end = (0,0)\n",
    "\n",
    "def matrixMaze(dim_matrix, start, end):\n",
    "    '''A function.'''\n",
    "    \n",
    "    m = dim_matrix[0]\n",
    "    n = dim_matrix[1]\n",
    "    \n",
    "    start_m = start[0]\n",
    "    start_n = start[1]\n",
    "    end_m = end[0]\n",
    "    end_n = end[1]\n",
    "        \n",
    "    def _starterMatrix(m,n):\n",
    "        dim_matrix = (m, n)\n",
    "        starter_matrix = np.random.randint(1,100, (dim_matrix))\n",
    "        starter_matrix = starter_matrix % 2\n",
    "        return starter_matrix, dim_matrix\n",
    "\n",
    "    starter_matrix,dim_matrix = _starterMatrix(m,n)\n",
    "    \n",
    "    if len(starter_matrix) == 0: \n",
    "        return 'Null. Empty matrix'\n",
    "    \n",
    "    def _gameMatrix(starter_matrix):\n",
    "        game_matrix = []\n",
    "        for i in range(m):\n",
    "            game_matrix.append(['T' if x != 1 else 'F' for x in starter_matrix[i]])\n",
    "        game_matrix = np.array(game_matrix)\n",
    "        return game_matrix\n",
    "    \n",
    "    game_matrix = _gameMatrix(starter_matrix)\n",
    "    \n",
    "    if game_matrix[start][0]  == 'T' or game_matrix[end][0] == 'T':\n",
    "        return 'Null. Start: {}, End: {}'.format(game_matrix[start][0][0], game_matrix[end][0][0])\n",
    "    else:\n",
    "        print('Ready to play! Start: {}, End: {}'.format(game_matrix[start][0][0], game_matrix[end][0][0]))\n",
    "    print(game_matrix)\n",
    "    count = 0\n",
    "    end_step = (end_m, end_n) \n",
    "    start_step = (start_m, start_n)\n",
    "\n",
    "    for i in range(n-start_n):\n",
    "        print(game_matrix[start_m, start_n + i], (start_m, start_n + i))\n",
    "        if game_matrix[start_m, start_n + i] == 'T':\n",
    "            print('Blocked')\n",
    "            for j in range(3):\n",
    "                print(game_matrix[start_m-1, start_n + i-1 - j], (start_m-1, start_n + i-1 - j))\n",
    "#                 print(game_matrix[start_m-2, start_n + i-1 - j], (start_m-2, start_n + i-1 - j))\n",
    "\n",
    "\n",
    "matrixMaze(dim_matrix, start, end)\n",
    "\n",
    "# 20200210: Custom (i.e., toy) solution. Will work towards general solution tomorrow! \n",
    "# 20200211: Tried working from both ends and creating a coordinates counter dict, but that's twice the work! \n",
    "#                     Instead, will try working horizontally --> vertically from start to end (tailored specifically to this game matrix).\n",
    "#                     Will try defining boundaries in the likely event that working horizontally OR vertically gives us the shortest path. "
   ]
  }
 ],
 "metadata": {
  "kernelspec": {
   "display_name": "Python 3",
   "language": "python",
   "name": "python3"
  },
  "language_info": {
   "codemirror_mode": {
    "name": "ipython",
    "version": 3
   },
   "file_extension": ".py",
   "mimetype": "text/x-python",
   "name": "python",
   "nbconvert_exporter": "python",
   "pygments_lexer": "ipython3",
   "version": "3.6.4"
  },
  "toc": {
   "base_numbering": 1,
   "nav_menu": {},
   "number_sections": true,
   "sideBar": true,
   "skip_h1_title": true,
   "title_cell": "Table of Contents",
   "title_sidebar": "Contents",
   "toc_cell": false,
   "toc_position": {},
   "toc_section_display": true,
   "toc_window_display": false
  },
  "varInspector": {
   "cols": {
    "lenName": 16,
    "lenType": 16,
    "lenVar": 40
   },
   "kernels_config": {
    "python": {
     "delete_cmd_postfix": "",
     "delete_cmd_prefix": "del ",
     "library": "var_list.py",
     "varRefreshCmd": "print(var_dic_list())"
    },
    "r": {
     "delete_cmd_postfix": ") ",
     "delete_cmd_prefix": "rm(",
     "library": "var_list.r",
     "varRefreshCmd": "cat(var_dic_list()) "
    }
   },
   "types_to_exclude": [
    "module",
    "function",
    "builtin_function_or_method",
    "instance",
    "_Feature"
   ],
   "window_display": false
  }
 },
 "nbformat": 4,
 "nbformat_minor": 2
}
