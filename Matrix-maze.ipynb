{
 "cells": [
  {
   "cell_type": "markdown",
   "metadata": {},
   "source": [
    "# Matrix Maze  \n",
    "2020.02.10"
   ]
  },
  {
   "cell_type": "markdown",
   "metadata": {},
   "source": [
    "## The problem: \n",
    "[From: Daily Coding Challenge]\n",
    "\n",
    "You are given an M by N matrix consisting of booleans that represents a board. Each True boolean represents a wall. Each False boolean represents a tile you can walk on.\n",
    "\n",
    "Given this matrix, a start coordinate, and an end coordinate, return the minimum number of steps required to reach the end coordinate from the start. If there is no possible path, then return null. You can move up, left, down, and right. You cannot move through walls. You cannot wrap around the edges of the board.\n",
    "\n",
    "## What we know: \n",
    "\n",
    "- Inputs: an MxN matrix, start coordinates, end coordinates  \n",
    "- Output: integer minimum number of steps \n",
    "\n",
    "### Q&As (questions and assumptions):  \n",
    " \n",
    "### Cases to consider: \n",
    "1) Empty matrix\n",
    "\n",
    "2) Single line (1xM)\n",
    "\n",
    "3) Large matrix \n",
    "\n",
    "### Bonus: \n",
    "\n",
    "Write code to randomly generate a board."
   ]
  },
  {
   "cell_type": "markdown",
   "metadata": {},
   "source": [
    "# Lets begin! "
   ]
  },
  {
   "cell_type": "code",
   "execution_count": 1,
   "metadata": {
    "ExecuteTime": {
     "end_time": "2020-02-13T01:42:57.443980Z",
     "start_time": "2020-02-13T01:42:57.197345Z"
    }
   },
   "outputs": [],
   "source": [
    "import numpy as np"
   ]
  },
  {
   "cell_type": "code",
   "execution_count": 19,
   "metadata": {
    "ExecuteTime": {
     "end_time": "2020-02-14T04:42:44.064934Z",
     "start_time": "2020-02-14T04:42:44.027772Z"
    }
   },
   "outputs": [
    {
     "name": "stdout",
     "output_type": "stream",
     "text": [
      "Ready to play! Start: F, End: F\n",
      "[['F' 'F' 'F' 'F']\n",
      " ['T' 'F' 'F' 'T']\n",
      " ['F' 'F' 'F' 'T']\n",
      " ['F' 'T' 'F' 'T']]\n",
      "-------------0------------\n",
      "At a boundary. Move to the right.\n",
      "T\n",
      "Blocked! Try moving up to (2, 0)\n",
      "Now on block [2 0]\n",
      "-------------1------------\n",
      "At a boundary. Move to the right.\n",
      "F\n",
      "Found a path!\n",
      "[2 1]\n",
      "-------------2------------\n",
      "You can move left or right. Left = (2, 2). Right = (2, 0)\n",
      "[2 1]\n",
      "Move left.\n",
      "[2 2]\n",
      "-------------3------------\n",
      "You can move left or right. Left = (2, 3). Right = (2, 1)\n",
      "[2 2]\n",
      "Try moving up.\n",
      "1\n",
      "[1 2]\n",
      "-------------4------------\n",
      "You can move left or right. Left = (1, 3). Right = (1, 1)\n",
      "[1 2]\n",
      "Try moving up.\n",
      "1\n",
      "[0 2]\n",
      "-------------5------------\n",
      "You can move left or right. Left = (0, 3). Right = (0, 1)\n",
      "[0 2]\n",
      "Move left.\n",
      "[0 3]\n",
      "-------------6------------\n",
      "At a boundary. Move to the left.\n",
      "Moving to the left.\n",
      "[0 2]\n",
      "-------------7------------\n",
      "You can move left or right. Left = (0, 3). Right = (0, 1)\n",
      "[0 2]\n",
      "Move left.\n",
      "[0 3]\n",
      "-------------8------------\n",
      "At a boundary. Move to the left.\n",
      "Moving to the left.\n",
      "[0 2]\n",
      "-------------9------------\n",
      "You can move left or right. Left = (0, 3). Right = (0, 1)\n",
      "[0 2]\n",
      "Move left.\n",
      "[0 3]\n",
      "-------------10------------\n",
      "At a boundary. Move to the left.\n",
      "Moving to the left.\n",
      "[0 2]\n",
      "-------------11------------\n",
      "You can move left or right. Left = (0, 3). Right = (0, 1)\n",
      "[0 2]\n",
      "Move left.\n",
      "[0 3]\n",
      "-------------12------------\n",
      "At a boundary. Move to the left.\n",
      "Moving to the left.\n",
      "[0 2]\n",
      "-------------13------------\n",
      "You can move left or right. Left = (0, 3). Right = (0, 1)\n",
      "[0 2]\n",
      "Move left.\n",
      "[0 3]\n",
      "-------------14------------\n",
      "At a boundary. Move to the left.\n",
      "Moving to the left.\n",
      "[0 2]\n",
      "-------------15------------\n",
      "You can move left or right. Left = (0, 3). Right = (0, 1)\n",
      "[0 2]\n",
      "Move left.\n",
      "[0 3]\n",
      "-------------16------------\n",
      "At a boundary. Move to the left.\n",
      "Moving to the left.\n",
      "[0 2]\n"
     ]
    }
   ],
   "source": [
    "'''Global vars'''\n",
    "seed = 70\n",
    "m = 4 \n",
    "n = 4\n",
    "start = (m-1,0)\n",
    "end = (0,0)\n",
    "\n",
    "def matrixMaze():\n",
    "    '''A function.'''\n",
    "        \n",
    "    def _starterMatrix():\n",
    "        np.random.seed(seed)\n",
    "        dim_matrix = (m, n)\n",
    "        starter_matrix = np.random.randint(1, 100, (dim_matrix))\n",
    "        starter_matrix = starter_matrix % 2\n",
    "        return starter_matrix, dim_matrix\n",
    "    starter_matrix, dim_matrix = _starterMatrix()\n",
    "    \n",
    "    def _gameMatrix(starter_matrix):\n",
    "        \n",
    "        if len(starter_matrix) == 0: \n",
    "            return 'Null. Empty matrix'\n",
    "        \n",
    "        game_matrix = []\n",
    "        for i in range(m):\n",
    "            game_matrix.append(['T' if x != 1 else 'F' for x in starter_matrix[i]])\n",
    "        game_matrix = np.array(game_matrix)\n",
    "        \n",
    "        if game_matrix[start][0]  == 'T' or game_matrix[end][0] == 'T':\n",
    "            return 'Null. Start: {}, End: {}'.format(game_matrix[start][0][0], game_matrix[end][0][0])\n",
    "        else:\n",
    "            print('Ready to play! Start: {}, End: {}'.format(game_matrix[start][0][0], game_matrix[end][0][0]))\n",
    "            print(game_matrix)\n",
    "        return game_matrix\n",
    "    game_matrix = _gameMatrix(starter_matrix)\n",
    "        \n",
    "    def _movePawn():\n",
    "        now_on = start\n",
    "        now_on = np.array(now_on)\n",
    "        current_row = start[0]\n",
    "        visited = [] #to avoid backtracking! \n",
    "        \n",
    "        count = 0\n",
    "        move_row = 1 \n",
    "        while count <= n*m:\n",
    "            print('-------------{}------------'.format(count))\n",
    "            if now_on[1] == 0: \n",
    "                print('At a boundary. Move to the right.')\n",
    "                print(game_matrix[now_on[0], now_on[1] + 1])\n",
    "                if game_matrix[now_on[0], now_on[1] + 1] == 'T':\n",
    "                    print('Blocked!', 'Try moving up to {}'.format((now_on[0] - move_row, now_on[1]))) #move up  a row\n",
    "                    if game_matrix[now_on[0]-move_row, now_on[1]] != 'T': # if there's a path\n",
    "                        now_on[0] = current_row - move_row #update current location\n",
    "                        print('Now on block {}'.format(now_on))\n",
    "                    else:\n",
    "                        print('No moves this way') #else, we're stuck \n",
    "                else: \n",
    "                    print('Found a path!') #there's a path \n",
    "                    now_on = np.array((now_on[0], now_on[1] + 1))\n",
    "                    print(now_on)\n",
    "            elif n - now_on[1] == 1:\n",
    "                print('At a boundary. Move to the left.')\n",
    "                if game_matrix[now_on[0], now_on[1]-1] == 'F':\n",
    "                    print('Moving to the left.')\n",
    "                    now_on = np.array((now_on[0], now_on[1]-1))\n",
    "                    print(now_on)\n",
    "            else: \n",
    "                print('You can move left or right from . Left = {}. Right = {}'.format((now_on[0], now_on[1] + 1),  (now_on[0], now_on[1] - 1)))\n",
    "                print(now_on)\n",
    "                if game_matrix[now_on[0], now_on[1] + 1] != 'T':\n",
    "                    print('Move left.')\n",
    "                    now_on = np.array((now_on[0], now_on[1] + 1))\n",
    "                    print(now_on)\n",
    "                elif game_matrix[now_on[0], now_on[1] - 1] == 'T': \n",
    "                    print('Try moving right')\n",
    "                    now_on = np.array((now_on[0], now_on[1] - 1))\n",
    "                    print(now_on)\n",
    "                else:\n",
    "                    print('Try moving up.')\n",
    "                    print(move_row)\n",
    "                    now_on = np.array((now_on[0]-move_row, now_on[1]))\n",
    "                    print(now_on)\n",
    "            if list(now_on) == end: \n",
    "                return count\n",
    "            \n",
    "                \n",
    "            count += 1\n",
    "    _movePawn() \n",
    "\n",
    "matrixMaze()\n",
    "\n",
    "# 20200210: Custom (i.e., toy) solution. Will work towards general solution tomorrow! \n",
    "# 20200211: Tried working from both ends and creating a coordinates counter dict, but that's twice the work! \n",
    "#                     Instead, will try working horizontally --> vertically from start to end (tailored specifically to this game matrix).\n",
    "#                     Will try defining boundaries in the likely event that working horizontally OR vertically gives us the shortest path. \n",
    "# 20200212: Caught in a loop between (0,2) and (0,3). How do we continue moving to the left? "
   ]
  },
  {
   "cell_type": "code",
   "execution_count": null,
   "metadata": {
    "ExecuteTime": {
     "end_time": "2020-02-13T00:41:54.525266Z",
     "start_time": "2020-02-13T00:41:54.364744Z"
    }
   },
   "outputs": [],
   "source": []
  },
  {
   "cell_type": "code",
   "execution_count": 17,
   "metadata": {
    "ExecuteTime": {
     "end_time": "2020-02-14T04:41:39.847448Z",
     "start_time": "2020-02-14T04:41:39.841287Z"
    }
   },
   "outputs": [
    {
     "data": {
      "text/plain": [
       "True"
      ]
     },
     "execution_count": 17,
     "metadata": {},
     "output_type": "execute_result"
    }
   ],
   "source": [
    "(0,3) > (0,1) > (0,0)"
   ]
  },
  {
   "cell_type": "code",
   "execution_count": null,
   "metadata": {},
   "outputs": [],
   "source": []
  }
 ],
 "metadata": {
  "kernelspec": {
   "display_name": "Python 3",
   "language": "python",
   "name": "python3"
  },
  "language_info": {
   "codemirror_mode": {
    "name": "ipython",
    "version": 3
   },
   "file_extension": ".py",
   "mimetype": "text/x-python",
   "name": "python",
   "nbconvert_exporter": "python",
   "pygments_lexer": "ipython3",
   "version": "3.6.4"
  },
  "toc": {
   "base_numbering": 1,
   "nav_menu": {},
   "number_sections": true,
   "sideBar": true,
   "skip_h1_title": true,
   "title_cell": "Table of Contents",
   "title_sidebar": "Contents",
   "toc_cell": false,
   "toc_position": {},
   "toc_section_display": true,
   "toc_window_display": false
  },
  "varInspector": {
   "cols": {
    "lenName": 16,
    "lenType": 16,
    "lenVar": 40
   },
   "kernels_config": {
    "python": {
     "delete_cmd_postfix": "",
     "delete_cmd_prefix": "del ",
     "library": "var_list.py",
     "varRefreshCmd": "print(var_dic_list())"
    },
    "r": {
     "delete_cmd_postfix": ") ",
     "delete_cmd_prefix": "rm(",
     "library": "var_list.r",
     "varRefreshCmd": "cat(var_dic_list()) "
    }
   },
   "types_to_exclude": [
    "module",
    "function",
    "builtin_function_or_method",
    "instance",
    "_Feature"
   ],
   "window_display": false
  }
 },
 "nbformat": 4,
 "nbformat_minor": 2
}
