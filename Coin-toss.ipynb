{
 "cells": [
  {
   "cell_type": "markdown",
   "metadata": {},
   "source": [
    "# Coin flip: there can only be 1\n",
    "2020.02.01"
   ]
  },
  {
   "cell_type": "markdown",
   "metadata": {},
   "source": [
    "## The problem: \n",
    "[From: Daily Coding Challenge]\n",
    "\n",
    "You have n fair coins and you flip them all at the same time. Any that come up tails you set aside. The ones that come up heads you flip again. How many rounds do you expect to play before only one coin remains?\n",
    "\n",
    "Write a function that, given n, returns the number of rounds you'd expect to play until one coin remains.\n",
    "\n",
    "## What we know: \n",
    "\n",
    "- Input: an integer representing the number of coins (n) \n",
    "- Output: an integer representing the number of rounds it takes to reduce n --> 1 \n",
    "\n",
    "### Q&As (questions and assumptions):  \n",
    "\n",
    "- A: A fair coin means that flipping H/T is 50/50. Therefore, at the end of each round, half the coins in that round would be removed (since half would flip T). \n",
    " \n",
    "### Cases to consider: \n",
    "1) n is an odd number "
   ]
  },
  {
   "cell_type": "markdown",
   "metadata": {},
   "source": [
    "# Lets begin! "
   ]
  },
  {
   "cell_type": "markdown",
   "metadata": {},
   "source": [
    "# What will this funtion do? \n",
    "\n",
    "1) Function takes an integer (n) as the input.\n",
    "\n",
    "2) The function will reduce the number of remaining coins each \"round\" by half until there is only 1 remaining. \n",
    "\n",
    "3) Function will return that number. \n"
   ]
  },
  {
   "cell_type": "code",
   "execution_count": 24,
   "metadata": {
    "ExecuteTime": {
     "end_time": "2020-02-02T03:07:20.135522Z",
     "start_time": "2020-02-02T03:07:20.125344Z"
    }
   },
   "outputs": [
    {
     "name": "stdout",
     "output_type": "stream",
     "text": [
      "1.0\n"
     ]
    },
    {
     "data": {
      "text/plain": [
       "'Assuming a fair coin, it will take 3 rounds to reach 1 coin starting from 10 coins'"
      ]
     },
     "execution_count": 24,
     "metadata": {},
     "output_type": "execute_result"
    }
   ],
   "source": [
    "import numpy as np \n",
    "\n",
    "def coinToss(n):       \n",
    "    num_coins = np.floor(n/2) #first round \n",
    "    if num_coins == 1:\n",
    "        print(num_coins)\n",
    "        return ('It took 1 rounds to reach 1 coin starting from {} coins' .format(n))\n",
    "    \n",
    "    tosses = 1\n",
    "    while tosses < n:\n",
    "        num_coins = np.floor(num_coins/2)\n",
    "        if num_coins == 1:\n",
    "            print(num_coins)\n",
    "            return ('Assuming a fair coin, it will take {} rounds to reach 1 coin starting from {} coins.' .format(tosses + 1, n))\n",
    "        tosses += 1\n",
    "  \n",
    "coinToss(10)"
   ]
  }
 ],
 "metadata": {
  "kernelspec": {
   "display_name": "Python 3",
   "language": "python",
   "name": "python3"
  },
  "language_info": {
   "codemirror_mode": {
    "name": "ipython",
    "version": 3
   },
   "file_extension": ".py",
   "mimetype": "text/x-python",
   "name": "python",
   "nbconvert_exporter": "python",
   "pygments_lexer": "ipython3",
   "version": "3.6.4"
  },
  "toc": {
   "base_numbering": 1,
   "nav_menu": {},
   "number_sections": true,
   "sideBar": true,
   "skip_h1_title": true,
   "title_cell": "Table of Contents",
   "title_sidebar": "Contents",
   "toc_cell": false,
   "toc_position": {},
   "toc_section_display": true,
   "toc_window_display": false
  },
  "varInspector": {
   "cols": {
    "lenName": 16,
    "lenType": 16,
    "lenVar": 40
   },
   "kernels_config": {
    "python": {
     "delete_cmd_postfix": "",
     "delete_cmd_prefix": "del ",
     "library": "var_list.py",
     "varRefreshCmd": "print(var_dic_list())"
    },
    "r": {
     "delete_cmd_postfix": ") ",
     "delete_cmd_prefix": "rm(",
     "library": "var_list.r",
     "varRefreshCmd": "cat(var_dic_list()) "
    }
   },
   "types_to_exclude": [
    "module",
    "function",
    "builtin_function_or_method",
    "instance",
    "_Feature"
   ],
   "window_display": false
  }
 },
 "nbformat": 4,
 "nbformat_minor": 2
}
