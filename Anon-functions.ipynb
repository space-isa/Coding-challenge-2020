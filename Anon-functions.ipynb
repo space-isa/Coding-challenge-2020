{
 "cells": [
  {
   "cell_type": "markdown",
   "metadata": {},
   "source": [
    "# Anon functions\n",
    "2020.02.09 "
   ]
  },
  {
   "cell_type": "markdown",
   "metadata": {},
   "source": [
    "## The problem: \n",
    "[From: Daily Coding Challenge]\n",
    "What does the below code snippet print out? How can we fix the anonymous functions to behave as we'd expect?\n",
    "    \n",
    "## What we (think we) know: \n",
    "\n",
    "- What the person who wrote the code likely intended to do was to create a list of 10 different lambda functions, in this case containing integers (hence the for loop). \n",
    "\n",
    "\n",
    "- A lambda function is an anonymous function (i.e., a function not explicitly named). \n",
    "\n",
    "\n",
    "- Since a lambda function *is* a function, it requires arguments and a statement."
   ]
  },
  {
   "cell_type": "markdown",
   "metadata": {},
   "source": [
    "# Lets begin! "
   ]
  },
  {
   "cell_type": "code",
   "execution_count": 53,
   "metadata": {
    "ExecuteTime": {
     "end_time": "2020-02-10T05:18:07.316184Z",
     "start_time": "2020-02-10T05:18:07.308433Z"
    }
   },
   "outputs": [
    {
     "name": "stdout",
     "output_type": "stream",
     "text": [
      "0\n",
      "1\n",
      "2\n",
      "3\n",
      "4\n",
      "5\n",
      "6\n",
      "7\n",
      "8\n",
      "9\n",
      "<class 'int'> 9\n",
      "<class 'int'> 9\n",
      "<class 'int'> 9\n",
      "<class 'int'> 9\n",
      "<class 'int'> 9\n",
      "<class 'int'> 9\n",
      "<class 'int'> 9\n",
      "<class 'int'> 9\n",
      "<class 'int'> 9\n",
      "<class 'int'> 9\n"
     ]
    }
   ],
   "source": [
    "functions = []\n",
    "for i in range(10):\n",
    "    print(i)\n",
    "    functions.append(lambda : i)\n",
    "for f in functions:\n",
    "    print(type(f()), f())\n",
    "\n",
    "## Comment: We see that what actually gets appended to functions is a series of 9's. \n",
    "##  This lambda function is missing its arguments and only has an expression."
   ]
  },
  {
   "cell_type": "markdown",
   "metadata": {},
   "source": [
    "## Rewritten code"
   ]
  },
  {
   "cell_type": "code",
   "execution_count": 51,
   "metadata": {
    "ExecuteTime": {
     "end_time": "2020-02-10T05:13:45.460691Z",
     "start_time": "2020-02-10T05:13:45.453949Z"
    }
   },
   "outputs": [
    {
     "name": "stdout",
     "output_type": "stream",
     "text": [
      "0\n",
      "1\n",
      "2\n",
      "3\n",
      "4\n",
      "5\n",
      "6\n",
      "7\n",
      "8\n",
      "9\n"
     ]
    }
   ],
   "source": [
    "## Here, we're using list comprehension\n",
    "## By explicitly setting x=x, we allow the values in the for loop to be passed to our lambda function \n",
    "\n",
    "functions = [lambda x=x : x for x in range(10)]\n",
    "for f in functions:\n",
    "    print(f())"
   ]
  }
 ],
 "metadata": {
  "kernelspec": {
   "display_name": "Python 3",
   "language": "python",
   "name": "python3"
  },
  "language_info": {
   "codemirror_mode": {
    "name": "ipython",
    "version": 3
   },
   "file_extension": ".py",
   "mimetype": "text/x-python",
   "name": "python",
   "nbconvert_exporter": "python",
   "pygments_lexer": "ipython3",
   "version": "3.6.4"
  },
  "toc": {
   "base_numbering": 1,
   "nav_menu": {},
   "number_sections": true,
   "sideBar": true,
   "skip_h1_title": true,
   "title_cell": "Table of Contents",
   "title_sidebar": "Contents",
   "toc_cell": false,
   "toc_position": {},
   "toc_section_display": true,
   "toc_window_display": false
  },
  "varInspector": {
   "cols": {
    "lenName": 16,
    "lenType": 16,
    "lenVar": 40
   },
   "kernels_config": {
    "python": {
     "delete_cmd_postfix": "",
     "delete_cmd_prefix": "del ",
     "library": "var_list.py",
     "varRefreshCmd": "print(var_dic_list())"
    },
    "r": {
     "delete_cmd_postfix": ") ",
     "delete_cmd_prefix": "rm(",
     "library": "var_list.r",
     "varRefreshCmd": "cat(var_dic_list()) "
    }
   },
   "types_to_exclude": [
    "module",
    "function",
    "builtin_function_or_method",
    "instance",
    "_Feature"
   ],
   "window_display": false
  }
 },
 "nbformat": 4,
 "nbformat_minor": 2
}
