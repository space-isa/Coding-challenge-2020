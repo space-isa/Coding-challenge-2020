{
 "cells": [
  {
   "cell_type": "markdown",
   "metadata": {},
   "source": [
    "# Recurring characters\n",
    "2020.01.27"
   ]
  },
  {
   "cell_type": "markdown",
   "metadata": {},
   "source": [
    "## The problem: \n",
    "[From: Daily Coding Challenge]\n",
    "\n",
    "Given a string, return the first recurring character in it, or null if there is no recurring character.\n",
    "\n",
    "For example, given the string \"acbbac\", return \"b\". Given the string \"abcdef\", return null.\n",
    "\n",
    "## What we know: \n",
    "\n",
    "- Input: a string\n",
    "- Output: either first recurring character or null\n",
    "\n",
    "### Q&As (questions and assumptions):  \n",
    "\n",
    "- Q: Can a given string contain alphanumeric combinations? \n",
    "\n",
    "- A: Sure!\n",
    "\n",
    "\n",
    "- Q: Can a possible input be an empty string? \n",
    "\n",
    "- A: Don't see why not! \n",
    "\n",
    "\n",
    "- Q: Can you sort the string? \n",
    "\n",
    "- A: Let's try this without sorting. \n",
    "\n",
    "\n",
    "- Q: By first, do we mean by doing a unidirectional search? Or can it be a bidirectional search? \n",
    "\n",
    "- A: Let's start unidirectional (left --> right).  \n",
    "\n",
    "### Cases to consider: \n",
    "1) We're given an empty string.\n",
    "\n",
    "2) Multiple recurring characters.\n",
    "\n",
    "3) A very long string."
   ]
  },
  {
   "cell_type": "markdown",
   "metadata": {},
   "source": [
    "# Lets begin! "
   ]
  },
  {
   "cell_type": "markdown",
   "metadata": {},
   "source": [
    "# Pseudo code\n",
    "\n",
    "What will this funtion do? \n",
    "\n",
    "- Function takes in input as an argument. \n",
    "\n",
    "- Function creates an empty counter dict.\n",
    "\n",
    "- Function checks the length of the string:\n",
    "\n",
    " - If the length is equal to 0, we know we have been given an empty string. Function returns \"null\" with the additional comment: \"the string was empty\".\n",
    "\n",
    "- If the length is not equal to 0, function will parse the string:\n",
    "\n",
    "    - Each character it comes across will be stored in a seperate array that will act as a counter. If the character does not exist in the counter, it will be added and its count will be 1. \n",
    "    - If the funtion reaches a character in the input string that increases its counter to 2, the function will declare that that character is our answer (yay!). \n",
    "    - If the function finishes parsing the input string without encountering a recurring character we will know this by checking the sum of the counts in our dict and dividing it by the length of our string. If the remainder is 0, the function will return 'null' (yay!) . "
   ]
  },
  {
   "cell_type": "code",
   "execution_count": 82,
   "metadata": {
    "ExecuteTime": {
     "end_time": "2020-01-28T04:52:53.847283Z",
     "start_time": "2020-01-28T04:52:53.818994Z"
    }
   },
   "outputs": [
    {
     "name": "stdout",
     "output_type": "stream",
     "text": [
      "Found a pair!\n"
     ]
    },
    {
     "data": {
      "text/plain": [
       "'b'"
      ]
     },
     "execution_count": 82,
     "metadata": {},
     "output_type": "execute_result"
    }
   ],
   "source": [
    "def recurringChar(my_string):\n",
    "    '''Given a string, this function returns the first recurring character in it, \n",
    "    or null if there is no recurring character.'''\n",
    "    char_count = {}\n",
    "    \n",
    "    if(len(my_string) == 0):\n",
    "        print(\"The string is empty\")\n",
    "        return 'null'\n",
    "    else:\n",
    "        for chars in my_string:\n",
    "                if chars in char_count:\n",
    "                    char_count[chars] += 1\n",
    "                    for i in range(len(list(char_count.values()))):\n",
    "                        if list(char_count.values())[i] == 2: \n",
    "                            print('Found a pair!')\n",
    "                            return list(char_count.keys())[i]\n",
    "                else:\n",
    "                    char_count[chars] = 1\n",
    "        if sum(list(char_count.values())) %  len(list(char_count.values())) == 0:\n",
    "            return 'null'\n",
    "        else: \n",
    "            print('Bug detected!')\n",
    "        \n",
    "recurringChar(my_string = 'abbccd')"
   ]
  }
 ],
 "metadata": {
  "kernelspec": {
   "display_name": "Python 3",
   "language": "python",
   "name": "python3"
  },
  "language_info": {
   "codemirror_mode": {
    "name": "ipython",
    "version": 3
   },
   "file_extension": ".py",
   "mimetype": "text/x-python",
   "name": "python",
   "nbconvert_exporter": "python",
   "pygments_lexer": "ipython3",
   "version": "3.6.4"
  },
  "toc": {
   "base_numbering": 1,
   "nav_menu": {},
   "number_sections": true,
   "sideBar": true,
   "skip_h1_title": true,
   "title_cell": "Table of Contents",
   "title_sidebar": "Contents",
   "toc_cell": false,
   "toc_position": {},
   "toc_section_display": true,
   "toc_window_display": false
  },
  "varInspector": {
   "cols": {
    "lenName": 16,
    "lenType": 16,
    "lenVar": 40
   },
   "kernels_config": {
    "python": {
     "delete_cmd_postfix": "",
     "delete_cmd_prefix": "del ",
     "library": "var_list.py",
     "varRefreshCmd": "print(var_dic_list())"
    },
    "r": {
     "delete_cmd_postfix": ") ",
     "delete_cmd_prefix": "rm(",
     "library": "var_list.r",
     "varRefreshCmd": "cat(var_dic_list()) "
    }
   },
   "types_to_exclude": [
    "module",
    "function",
    "builtin_function_or_method",
    "instance",
    "_Feature"
   ],
   "window_display": false
  }
 },
 "nbformat": 4,
 "nbformat_minor": 2
}
