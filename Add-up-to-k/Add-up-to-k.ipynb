{
 "cells": [
  {
   "cell_type": "markdown",
   "metadata": {},
   "source": [
    "# Add up to k \n",
    "2020.02.02"
   ]
  },
  {
   "cell_type": "markdown",
   "metadata": {},
   "source": [
    "## The problem: \n",
    "[From: Daily Coding Challenge]\n",
    "\n",
    "Given a list of numbers and a number k, return whether any two numbers from the list add up to k.\n",
    "\n",
    "For example, given [10, 15, 3, 7] and k of 17, return true since 10 + 7 is 17.\n",
    "\n",
    "## What we know: \n",
    "\n",
    "- Inputs: a number and an array\n",
    "- Output: boolean  \n",
    "\n",
    "### Q&As (questions and assumptions):  \n",
    "\n",
    "- Q: Are floats and negative numbers fair game? \n",
    " \n",
    "### Cases to consider: \n",
    "1) No loops (complete in one pas). "
   ]
  },
  {
   "cell_type": "markdown",
   "metadata": {},
   "source": [
    "# Lets begin! "
   ]
  },
  {
   "cell_type": "code",
   "execution_count": 18,
   "metadata": {
    "ExecuteTime": {
     "end_time": "2020-02-03T00:07:06.702169Z",
     "start_time": "2020-02-03T00:07:06.689269Z"
    }
   },
   "outputs": [
    {
     "data": {
      "text/plain": [
       "True"
      ]
     },
     "execution_count": 18,
     "metadata": {},
     "output_type": "execute_result"
    }
   ],
   "source": [
    "import numpy as np \n",
    "\n",
    "def addUp(k, my_array):\n",
    "    '''Returns whether any two numbers from the list given adds up to k.'''\n",
    "    \n",
    "    if len(my_array) == 0: \n",
    "        return('This array is empty.')\n",
    "    \n",
    "    for i in range(len(my_array)):\n",
    "        if k - my_array[i] in my_array:   \n",
    "            return True\n",
    "        elif k - my_array[i] not in my_array: \n",
    "            if i+1 == len(my_array): #If we've reached the end of our list \n",
    "                return('There are no two numbers that add to {}'.format(k))\n",
    "            else: \n",
    "                continue\n",
    "\n",
    "addUp(17, [10, 18, -1])"
   ]
  },
  {
   "cell_type": "markdown",
   "metadata": {},
   "source": [
    "## Reflection"
   ]
  },
  {
   "cell_type": "code",
   "execution_count": 20,
   "metadata": {
    "ExecuteTime": {
     "end_time": "2020-02-03T00:09:36.330470Z",
     "start_time": "2020-02-03T00:09:36.322573Z"
    }
   },
   "outputs": [
    {
     "data": {
      "text/plain": [
       "'Draft code (partial):'"
      ]
     },
     "execution_count": 20,
     "metadata": {},
     "output_type": "execute_result"
    }
   ],
   "source": [
    "'''First round: tried to remove numbers larger than k, sort, add 0 in case len was odd, then add pairwise from each end'''\n",
    "'''Realized there were cases in which there were pairs but they werent being added'''\n",
    "'''Then thought to put the difference in a seperate array to see if the difference was in the mod array'''\n",
    "'''THEN realized that in just a few lines of code, you can check to see if the difference was in the original array.'''\n",
    "'''Draft code (partial):'''\n",
    "\n",
    "#     difference = []\n",
    "#         print(number_needed[i], my_array[i])\n",
    "#         if number_needed[i] in my_array:\n",
    "#             print('Match')\n",
    "    \n",
    "#         if number_needed[i] == my_new_array[i]:\n",
    "#             print('Found a match!')\n",
    "#     for element in number_needed: \n",
    "#         if element is in my_new_array:\n",
    "#             print('True')\n",
    "#     print('The largest number is: {} ' .format(max(my_new_array)))\n",
    "#     print('The number I need to make {} is {}'.format(k, (k -max(my_new_array))))\n",
    "   \n",
    "#     for i in range(int(len(my_new_array)/2)):\n",
    "#         if my_new_array[len(my_new_array) - 1 - i] + my_new_array[i] == k:\n",
    "#             return True \n",
    "#         elif my_new_array[len(my_new_array) - 1 - i] + my_new_array[i] != k:\n",
    "#             if(i+1, 'we are here:', int(len(my_new_array)/2)):\n",
    "#                 return('There are no pairs that add up to {}'.format(k))\n",
    "#             else: \n",
    "#                 continue"
   ]
  },
  {
   "cell_type": "code",
   "execution_count": null,
   "metadata": {},
   "outputs": [],
   "source": []
  }
 ],
 "metadata": {
  "kernelspec": {
   "display_name": "Python 3",
   "language": "python",
   "name": "python3"
  },
  "language_info": {
   "codemirror_mode": {
    "name": "ipython",
    "version": 3
   },
   "file_extension": ".py",
   "mimetype": "text/x-python",
   "name": "python",
   "nbconvert_exporter": "python",
   "pygments_lexer": "ipython3",
   "version": "3.6.4"
  },
  "toc": {
   "base_numbering": 1,
   "nav_menu": {},
   "number_sections": true,
   "sideBar": true,
   "skip_h1_title": true,
   "title_cell": "Table of Contents",
   "title_sidebar": "Contents",
   "toc_cell": false,
   "toc_position": {},
   "toc_section_display": true,
   "toc_window_display": false
  },
  "varInspector": {
   "cols": {
    "lenName": 16,
    "lenType": 16,
    "lenVar": 40
   },
   "kernels_config": {
    "python": {
     "delete_cmd_postfix": "",
     "delete_cmd_prefix": "del ",
     "library": "var_list.py",
     "varRefreshCmd": "print(var_dic_list())"
    },
    "r": {
     "delete_cmd_postfix": ") ",
     "delete_cmd_prefix": "rm(",
     "library": "var_list.r",
     "varRefreshCmd": "cat(var_dic_list()) "
    }
   },
   "types_to_exclude": [
    "module",
    "function",
    "builtin_function_or_method",
    "instance",
    "_Feature"
   ],
   "window_display": false
  }
 },
 "nbformat": 4,
 "nbformat_minor": 2
}
