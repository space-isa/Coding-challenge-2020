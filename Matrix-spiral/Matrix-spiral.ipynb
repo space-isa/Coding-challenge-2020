{
 "cells": [
  {
   "cell_type": "markdown",
   "metadata": {},
   "source": [
    "# Matrix Spiral  \n",
    "2020.02.06"
   ]
  },
  {
   "cell_type": "markdown",
   "metadata": {},
   "source": [
    "## The problem: \n",
    "[From: Daily Coding Challenge]\n",
    "Given a N by M matrix of numbers, print out the matrix in a clockwise spiral.\n",
    "\n",
    "For example, given the following matrix:\n",
    "\n",
    "[[1,  2,  3,  4,  5],\n",
    "\n",
    " [6,  7,  8,  9,  10],\n",
    " \n",
    " [11,12,13,14,15],\n",
    " \n",
    " [16,17,18,19,20]]\n",
    " \n",
    " You should print out the following:\n",
    "\n",
    "1\n",
    "2\n",
    "3\n",
    "4\n",
    "5\n",
    "10\n",
    "15\n",
    "20\n",
    "19\n",
    "18\n",
    "17\n",
    "16\n",
    "11\n",
    "6\n",
    "7\n",
    "8\n",
    "9\n",
    "14\n",
    "13\n",
    "12\n",
    "\n",
    "## What we know: \n",
    "\n",
    "- Inputs: an NxM matrix \n",
    "- Output: a printed series of numbers\n",
    "- With each loop, we create concentric rectangles. Each level in, we reduce the original rectangle by a 2x2 square. \n",
    "\n",
    "### Q&As (questions and assumptions):  \n",
    " \n",
    "### Cases to consider: \n",
    "1) Empty matrix\n",
    "\n",
    "2) Single line (1xM)\n",
    "\n",
    "3) Large matrix \n",
    "\n",
    "### Bonus: \n",
    "\n",
    "Rewrite with list comprehension."
   ]
  },
  {
   "cell_type": "markdown",
   "metadata": {},
   "source": [
    "# Lets begin! \n",
    "The Algorithms: countBoxes(), spiralCW()\n",
    "\n",
    "- We first take the dimensions of the input matrix and determine how many (if any) boxes can be created during the spiralling process. \n",
    "- Knowing the number of times we will have to go around the matrix (the number of boxes determined by countBoxes(), we only need to spiral around the paremeter.\n",
    "- Once a loop has been completed, we shrink the matrix by 2x2 and continue until the last element is reached. \n"
   ]
  },
  {
   "cell_type": "code",
   "execution_count": 17,
   "metadata": {
    "ExecuteTime": {
     "end_time": "2020-02-07T06:42:11.428210Z",
     "start_time": "2020-02-07T06:42:11.408991Z"
    }
   },
   "outputs": [
    {
     "name": "stdout",
     "output_type": "stream",
     "text": [
      "new box is 2x3\n",
      "No new boxes can be made.\n",
      "1\n",
      "---------------Box 0-----------------\n",
      "This is a 4x5 matrix\n",
      "1\n",
      "2\n",
      "3\n",
      "4\n",
      "5\n",
      "10\n",
      "15\n",
      "20\n",
      "19\n",
      "18\n",
      "17\n",
      "16\n",
      "11\n",
      "6\n",
      "---------------Box 1-----------------\n",
      "This is a 2x3 matrix\n",
      "7\n",
      "8\n",
      "9\n",
      "14\n",
      "13\n",
      "12\n"
     ]
    }
   ],
   "source": [
    "import numpy as np\n",
    "\n",
    "input_matrix = [[1,  2,  3,  4,  5], [6,  7,  8,  9,  10], [11,12,13,14,15], [16,17,18,19,20]] # a 4x5 matrix\n",
    "\n",
    "input_matrix = np.array(input_matrix)\n",
    "n = len(input_matrix)\n",
    "m = len(input_matrix[0,:])\n",
    "\n",
    "def countBoxes(n,m, num_boxes):\n",
    "    '''Takes the dimensions of the input matrix to determine\n",
    "    how many concentric rectangles (boxes) can be made.\n",
    "    Function will stop when no new boxes can be made, and will\n",
    "    return the number of boxes counted.'''\n",
    "    \n",
    "    if len( input_matrix )== 0:\n",
    "        return 'Null'\n",
    "    \n",
    "    n_new = n-2 \n",
    "    m_new = m-2\n",
    "    print('new box is {}x{}'.format(n_new,m_new))\n",
    "    num_boxes += 1\n",
    "    if n_new-2 ==0 or m_new-2 == 0: \n",
    "        print('No new boxes can be made.')\n",
    "        return num_boxes\n",
    "    else:\n",
    "        return countBoxes(n_new, m_new, num_boxes)\n",
    "\n",
    "num_boxes = countBoxes(n,m, num_boxes = 0)\n",
    "\n",
    "def spiralCW(input_matrix, num_boxes, n,m):\n",
    "    '''Prints elements around the paremiter of a box. Given the number of boxes\n",
    "    determined in numBoxes(), the process will continue, shrinking the matrix \n",
    "    by 2x2 each time. Function prints all of the elements traversed in a CW spiral.'''\n",
    "    \n",
    "    count = 0\n",
    "    while count <= 1: \n",
    "        print('---------------Box {}-----------------'.format(count))\n",
    "        if len(input_matrix) == 0: \n",
    "            return 'Null'\n",
    "        else:\n",
    "            print('This is a {}x{} matrix'.format(n,m))\n",
    "            for j in range(m):\n",
    "                print(input_matrix[0 + count, j + count])\n",
    "            for i in range(n-1):\n",
    "                print(input_matrix[i+1+count,m-1+count])\n",
    "            for i in range(m-2, -1, -1):\n",
    "                print(input_matrix[n-1+count, i+count])\n",
    "            for i in range(n-2,0,-1):\n",
    "                print(input_matrix[i+count, 0+count])\n",
    "            \n",
    "        count += 1\n",
    "        m = m-2\n",
    "        n = n-2\n",
    "\n",
    "    \n",
    "spiralCW(input_matrix, num_boxes,n,m)"
   ]
  }
 ],
 "metadata": {
  "kernelspec": {
   "display_name": "Python 3",
   "language": "python",
   "name": "python3"
  },
  "language_info": {
   "codemirror_mode": {
    "name": "ipython",
    "version": 3
   },
   "file_extension": ".py",
   "mimetype": "text/x-python",
   "name": "python",
   "nbconvert_exporter": "python",
   "pygments_lexer": "ipython3",
   "version": "3.6.4"
  },
  "toc": {
   "base_numbering": 1,
   "nav_menu": {},
   "number_sections": true,
   "sideBar": true,
   "skip_h1_title": true,
   "title_cell": "Table of Contents",
   "title_sidebar": "Contents",
   "toc_cell": false,
   "toc_position": {},
   "toc_section_display": true,
   "toc_window_display": false
  },
  "varInspector": {
   "cols": {
    "lenName": 16,
    "lenType": 16,
    "lenVar": 40
   },
   "kernels_config": {
    "python": {
     "delete_cmd_postfix": "",
     "delete_cmd_prefix": "del ",
     "library": "var_list.py",
     "varRefreshCmd": "print(var_dic_list())"
    },
    "r": {
     "delete_cmd_postfix": ") ",
     "delete_cmd_prefix": "rm(",
     "library": "var_list.r",
     "varRefreshCmd": "cat(var_dic_list()) "
    }
   },
   "types_to_exclude": [
    "module",
    "function",
    "builtin_function_or_method",
    "instance",
    "_Feature"
   ],
   "window_display": false
  }
 },
 "nbformat": 4,
 "nbformat_minor": 2
}
