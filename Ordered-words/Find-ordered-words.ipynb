{
 "cells": [
  {
   "cell_type": "code",
   "execution_count": null,
   "metadata": {},
   "outputs": [],
   "source": [
    "import sys\n",
    "\n",
    "def findOrderedWords(filename):\n",
    "    '''This function takes a .txt file as an input and prints all the words that are in alphabetical order.'''\n",
    "    assert filename.split('.')[1] == 'txt', \"Please use a .txt file.\"\n",
    "    with open(filename) as data_file:\n",
    "        data = data_file.read()\n",
    "        assert (len(data) == 0) == False, \"There's nothing in this file.\"\n",
    "        # If a line remains unchanged after sorting, it can be printed.\n",
    "        for line in data.splitlines():\n",
    "            if line == ''.join(sorted(line)):\n",
    "                print(line)\n",
    "\n",
    "\n",
    "def main():\n",
    "    if len(sys.argv) == 2:\n",
    "        filename = str(sys.argv[1])\n",
    "    else:\n",
    "        raise ValueError(\n",
    "            \"This script takes 2 command-line arguments. You have passed {}.\".\n",
    "            format(len(sys.argv)))\n",
    "    findOrderedWords(filename)\n",
    "\n",
    "\n",
    "if __name__ == \"__main__\":\n",
    "    main()"
   ]
  }
 ],
 "metadata": {
  "kernelspec": {
   "display_name": "Python 3",
   "language": "python",
   "name": "python3"
  },
  "language_info": {
   "codemirror_mode": {
    "name": "ipython",
    "version": 3
   },
   "file_extension": ".py",
   "mimetype": "text/x-python",
   "name": "python",
   "nbconvert_exporter": "python",
   "pygments_lexer": "ipython3",
   "version": "3.6.4"
  },
  "toc": {
   "base_numbering": 1,
   "nav_menu": {},
   "number_sections": true,
   "sideBar": true,
   "skip_h1_title": true,
   "title_cell": "Table of Contents",
   "title_sidebar": "Contents",
   "toc_cell": false,
   "toc_position": {},
   "toc_section_display": true,
   "toc_window_display": false
  },
  "varInspector": {
   "cols": {
    "lenName": 16,
    "lenType": 16,
    "lenVar": 40
   },
   "kernels_config": {
    "python": {
     "delete_cmd_postfix": "",
     "delete_cmd_prefix": "del ",
     "library": "var_list.py",
     "varRefreshCmd": "print(var_dic_list())"
    },
    "r": {
     "delete_cmd_postfix": ") ",
     "delete_cmd_prefix": "rm(",
     "library": "var_list.r",
     "varRefreshCmd": "cat(var_dic_list()) "
    }
   },
   "types_to_exclude": [
    "module",
    "function",
    "builtin_function_or_method",
    "instance",
    "_Feature"
   ],
   "window_display": false
  }
 },
 "nbformat": 4,
 "nbformat_minor": 2
}
