{
 "cells": [
  {
   "cell_type": "markdown",
   "metadata": {},
   "source": [
    "# Overlapping rectangles \n",
    "2020.02.20 "
   ]
  },
  {
   "cell_type": "markdown",
   "metadata": {},
   "source": [
    "## The problem \n",
    "Given two rectangles on a 2D graph, return the area of their intersection. If the rectangles don't intersect, return 0.\n",
    "\n",
    "For example, given the following rectangles:\n",
    "\n",
    "{\n",
    "    \"top_left\": (1, 4),\n",
    "    \"dimensions\": (3, 3) # width, height\n",
    "}\n",
    "\n",
    "and \n",
    "\n",
    "{\n",
    "    \"top_left\": (0, 5),\n",
    "    \"dimensions\": (4, 3) # width, height\n",
    "}\n",
    "\n",
    "return 4. \n",
    "\n",
    "\n",
    "[NOTE: The problem originally said \"return 6\", but that would mean that the dimensions are (height, width) instead of (width, height)]\n",
    "\n",
    "## What we know: \n",
    "\n",
    "- The area here is equal to the number of number of cells overlapped. \n",
    "\n",
    "### Q&As: \n",
    "\n",
    "- A naive solution would be to store all points of both recangles into arrays, then count any that overlap. This would undoubtedly be inefficient for v. large recangles.  \n",
    "\n",
    "- Instead of storing all possible cell coordinates in arrays, we can instead look only at the outer boundary of each recangle. Anything that overlaps would create an  m x n rectangle. \n",
    "\n",
    "### Cases to consider: \n",
    "\n",
    "- Rectangles do not overlap.\n",
    "\n",
    "- Rectangles fully overlap. "
   ]
  },
  {
   "cell_type": "code",
   "execution_count": 40,
   "metadata": {
    "ExecuteTime": {
     "end_time": "2020-02-21T03:46:26.328921Z",
     "start_time": "2020-02-21T03:46:26.323876Z"
    }
   },
   "outputs": [],
   "source": [
    "R1 = {\n",
    "    \"top_left\": (1, 4),\n",
    "    \"dimensions\": (3, 3)\n",
    "}\n",
    "\n",
    "R2 = {\n",
    "    \"top_left\": (0, 5),\n",
    "    \"dimensions\": (4, 3)\n",
    "}\n",
    "\n",
    "R_overlap = {}"
   ]
  },
  {
   "cell_type": "code",
   "execution_count": 23,
   "metadata": {
    "ExecuteTime": {
     "end_time": "2020-02-21T03:37:39.986476Z",
     "start_time": "2020-02-21T03:37:39.980220Z"
    }
   },
   "outputs": [
    {
     "name": "stdout",
     "output_type": "stream",
     "text": [
      "(1, 4)\n",
      "1\n",
      "4\n"
     ]
    }
   ],
   "source": [
    "print(list(R1.values())[0])\n",
    "print(list(R1.values())[0][0])\n",
    "print(list(R1.values())[0][1])\n",
    "R1_m = list(R1.values())[1][0]\n",
    "R1_n =  list(R1.values())[1][1]"
   ]
  },
  {
   "cell_type": "code",
   "execution_count": 39,
   "metadata": {
    "ExecuteTime": {
     "end_time": "2020-02-21T03:43:40.332026Z",
     "start_time": "2020-02-21T03:43:40.323773Z"
    }
   },
   "outputs": [
    {
     "name": "stdout",
     "output_type": "stream",
     "text": [
      "(1, 4)\n",
      "---m---\n",
      "(2, 4)\n",
      "---m---\n",
      "(3, 4)\n",
      "---m---\n",
      "===============]\n",
      "(1, 4)\n",
      "---n--\n",
      "(1, 5)\n",
      "---n--\n",
      "(1, 6)\n",
      "---n--\n"
     ]
    }
   ],
   "source": [
    "for i in range(R1_m):\n",
    "    print((i + list(R1.values())[0][0], list(R1.values())[0][1]))\n",
    "    print('---m---')\n",
    "print('===============]')\n",
    "for j in range(R1_n):\n",
    "    print(( list(R1.values())[0][0], j +  list(R1.values())[0][1])) \n",
    "    print('---n--')"
   ]
  },
  {
   "cell_type": "code",
   "execution_count": 43,
   "metadata": {
    "ExecuteTime": {
     "end_time": "2020-02-21T03:47:30.830137Z",
     "start_time": "2020-02-21T03:47:30.824924Z"
    }
   },
   "outputs": [
    {
     "data": {
      "text/plain": [
       "3"
      ]
     },
     "execution_count": 43,
     "metadata": {},
     "output_type": "execute_result"
    }
   ],
   "source": [
    "1 + 3 -1"
   ]
  },
  {
   "cell_type": "code",
   "execution_count": 44,
   "metadata": {
    "ExecuteTime": {
     "end_time": "2020-02-21T03:47:32.834804Z",
     "start_time": "2020-02-21T03:47:32.827706Z"
    }
   },
   "outputs": [
    {
     "data": {
      "text/plain": [
       "6"
      ]
     },
     "execution_count": 44,
     "metadata": {},
     "output_type": "execute_result"
    }
   ],
   "source": [
    "4 + 3-1"
   ]
  },
  {
   "cell_type": "code",
   "execution_count": 45,
   "metadata": {
    "ExecuteTime": {
     "end_time": "2020-02-21T03:47:45.911032Z",
     "start_time": "2020-02-21T03:47:45.903248Z"
    }
   },
   "outputs": [
    {
     "data": {
      "text/plain": [
       "3"
      ]
     },
     "execution_count": 45,
     "metadata": {},
     "output_type": "execute_result"
    }
   ],
   "source": [
    "0 + 4-1"
   ]
  },
  {
   "cell_type": "code",
   "execution_count": 46,
   "metadata": {
    "ExecuteTime": {
     "end_time": "2020-02-21T03:47:55.010598Z",
     "start_time": "2020-02-21T03:47:55.004515Z"
    }
   },
   "outputs": [
    {
     "data": {
      "text/plain": [
       "7"
      ]
     },
     "execution_count": 46,
     "metadata": {},
     "output_type": "execute_result"
    }
   ],
   "source": [
    "5 + 3 - 1"
   ]
  },
  {
   "cell_type": "code",
   "execution_count": 51,
   "metadata": {
    "ExecuteTime": {
     "end_time": "2020-02-21T04:02:59.668422Z",
     "start_time": "2020-02-21T04:02:59.663884Z"
    }
   },
   "outputs": [],
   "source": [
    "R1.update({'bottom_right' : 1 + 3 -1})"
   ]
  },
  {
   "cell_type": "code",
   "execution_count": 52,
   "metadata": {
    "ExecuteTime": {
     "end_time": "2020-02-21T04:03:01.021908Z",
     "start_time": "2020-02-21T04:03:01.015389Z"
    }
   },
   "outputs": [
    {
     "data": {
      "text/plain": [
       "{'top_left': (1, 4), 'dimensions': (3, 3), 'top_right': 3, 'bottom_right': 3}"
      ]
     },
     "execution_count": 52,
     "metadata": {},
     "output_type": "execute_result"
    }
   ],
   "source": [
    "R1"
   ]
  },
  {
   "cell_type": "code",
   "execution_count": null,
   "metadata": {},
   "outputs": [],
   "source": [
    "# Look for which top left is smaller,\n",
    "# (i,e., closer to (0,0))\n",
    "# check to see if the other corner is within the first rectangle "
   ]
  }
 ],
 "metadata": {
  "kernelspec": {
   "display_name": "Python 3",
   "language": "python",
   "name": "python3"
  },
  "language_info": {
   "codemirror_mode": {
    "name": "ipython",
    "version": 3
   },
   "file_extension": ".py",
   "mimetype": "text/x-python",
   "name": "python",
   "nbconvert_exporter": "python",
   "pygments_lexer": "ipython3",
   "version": "3.6.4"
  },
  "toc": {
   "base_numbering": 1,
   "nav_menu": {},
   "number_sections": true,
   "sideBar": true,
   "skip_h1_title": true,
   "title_cell": "Table of Contents",
   "title_sidebar": "Contents",
   "toc_cell": false,
   "toc_position": {},
   "toc_section_display": true,
   "toc_window_display": false
  },
  "varInspector": {
   "cols": {
    "lenName": 16,
    "lenType": 16,
    "lenVar": 40
   },
   "kernels_config": {
    "python": {
     "delete_cmd_postfix": "",
     "delete_cmd_prefix": "del ",
     "library": "var_list.py",
     "varRefreshCmd": "print(var_dic_list())"
    },
    "r": {
     "delete_cmd_postfix": ") ",
     "delete_cmd_prefix": "rm(",
     "library": "var_list.r",
     "varRefreshCmd": "cat(var_dic_list()) "
    }
   },
   "types_to_exclude": [
    "module",
    "function",
    "builtin_function_or_method",
    "instance",
    "_Feature"
   ],
   "window_display": false
  }
 },
 "nbformat": 4,
 "nbformat_minor": 2
}
