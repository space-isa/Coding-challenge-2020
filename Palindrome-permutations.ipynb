{
 "cells": [
  {
   "cell_type": "markdown",
   "metadata": {},
   "source": [
    "# Palindrome permutations\n",
    "2020.01.28"
   ]
  },
  {
   "cell_type": "markdown",
   "metadata": {},
   "source": [
    "## The problem: \n",
    "[From: Daily Coding Challenge]\n",
    "\n",
    "Given a string, determine whether any permutation of it is a palindrome.\n",
    "\n",
    "For example, carrace should return true, since it can be rearranged to form racecar, which is a palindrome. daily should return false, since there's no rearrangement that can form a palindrome.\n",
    "\n",
    "## What we know: \n",
    "\n",
    "- Input: a string\n",
    "- Output: boolean (true, false) \n",
    "- A palindrome is a word that is spelt the same forwards and backwards. \n",
    "- We can take advantage of symmetry \n",
    "- The minimum number of characters we need for a palindrome is 2 (since we're not assuming the use of real words).  \n",
    "\n",
    "### Q&As (questions and assumptions):  \n",
    "\n",
    "- Q: Can a given string contain alphanumeric combinations? \n",
    "\n",
    "- A: In theory, yes. But let's stick to alphabetical characters.\n",
    "\n",
    "\n",
    "- Q: Will the inputs be real words?\n",
    "\n",
    "- A: Not necessarily. \n",
    "\n",
    "\n",
    "- Q: Can a possible input be an empty string? \n",
    "\n",
    "- A: Don't see why not! \n",
    "\n",
    "\n",
    "- Q: Can you sort the string? \n",
    "\n",
    "- A: Let's try this without sorting. \n",
    "\n",
    "### Cases to consider: \n",
    "1) We're given an empty string."
   ]
  },
  {
   "cell_type": "markdown",
   "metadata": {},
   "source": [
    "# Lets begin! "
   ]
  },
  {
   "cell_type": "markdown",
   "metadata": {},
   "source": [
    "# Pseudo code\n",
    "\n",
    "What will this funtion do? \n",
    "\n",
    "1) Function takes a string as an input\n",
    "\n",
    "2) Function finds the length of the string. \n",
    "\n",
    "3) Function parses the characters in the string and counts the number of letters present, storing the information in a dict.\n",
    "\n",
    "4) Function checks dict: \n",
    "\n",
    "- If only one unique value, return 'True' \n",
    "- else: \n",
    "- Check length of list of unique keys\n",
    "- If length is an even number: \n",
    "- The sum of the count values must be even to return 'True', else: return 'False' \n",
    "- If the length is an odd number: \n",
    "- If sum of counts is even & all characters have even counts return 'True', else: return 'False' \n",
    "- The sum of count is odd & n-1 characters have even counts, return 'True', else: return 'False'\n",
    "---\n",
    "Example cases: \n",
    "\n",
    "\n",
    "E.g.: 'aabbcd' --> a:2 , b:2, c:1, d:1 --> len unique keys = 4 (minimum 3/4 need to have even counts for this to be considered a palindrome) --> sum vals = 6 < 7 --> return 'False'. \n",
    " \n",
    "E.g.: 'aabbc' --> a: 2, b:2, c:1 --> len unique keys = 3 (needs sum of 5 to be a palindrome) --> sum vals = 5 = 5 --> return 'True'  \n",
    "\n",
    "E.g.: 'aaa' --> a:2 --> len unique keys = 1-->  return 'True' \n",
    "\n",
    " E.g.:'abaa' --> a:3, b:1 --> len unique keys = 2 --> both values are odd --> return 'False'  \n"
   ]
  },
  {
   "cell_type": "code",
   "execution_count": 180,
   "metadata": {
    "ExecuteTime": {
     "end_time": "2020-01-29T07:03:49.969029Z",
     "start_time": "2020-01-29T07:03:49.953807Z"
    }
   },
   "outputs": [
    {
     "name": "stdout",
     "output_type": "stream",
     "text": [
      "{'a': 0, 's': 1, 'd': 1, 'f': 1, 'l': 1, 'k': 1}\n",
      "5\n",
      "Odd number of characters: 7\n"
     ]
    },
    {
     "data": {
      "text/plain": [
       "'False'"
      ]
     },
     "execution_count": 180,
     "metadata": {},
     "output_type": "execute_result"
    }
   ],
   "source": [
    "def palindrome(my_string):\n",
    "    '''Given a string, this function returns the first recurring character in it, \n",
    "    or null if there is no recurring character.'''\n",
    "    char_count = {}\n",
    "    num_spaces = len(my_string) - 1\n",
    "    for chars in my_string:\n",
    "            if chars not in char_count:\n",
    "                char_count[chars] = 1\n",
    "            else: \n",
    "                char_count[chars] += 1\n",
    "                if char_count[chars] == 2:\n",
    "                    char_count[chars] = 0\n",
    "    print(char_count)\n",
    "    print(sum(list(char_count.values())))\n",
    "        \n",
    "    if(len(my_string) == 0):\n",
    "        return 'The string is empty'\n",
    "    elif len(my_string) %2 == 0: \n",
    "        print('Even number of characters:', len(my_string))\n",
    "        if sum(list(char_count.values())) == 0:\n",
    "            return 'True'\n",
    "        else:\n",
    "            return 'False'\n",
    "    else: \n",
    "        print('Odd number of characters:', len(my_string))\n",
    "        if sum(list(char_count.values())) > 1:\n",
    "            return 'False'\n",
    "        else:\n",
    "            return 'True'\n",
    "\n",
    "'''Old tries, use for writeup over the weekend!'''        \n",
    "#         print('len keys:',len(list(char_count.keys())))\n",
    "#         print('sum vals:',sum(list(char_count.values())))\n",
    "#         print('num spaces:', num_spaces)\n",
    "#         len_char_count = len(list(char_count.keys()))\n",
    "#         if len_char_count == 1: \n",
    "#             return 'True'\n",
    "#         if any(len(list(char_count.values()))) %2 != 0:\n",
    "#             print('ahh')\n",
    "#         if len_char_count % 2 == 0: \n",
    "#             print('Even number of unique characters')\n",
    "#             if sum(list(char_count.values())) % num_spaces == 1:\n",
    "# #             if sum(list(char_count.values())) % 2 == 0: \n",
    "#                 return 'True'\n",
    "#             else: \n",
    "#                 return 'False'\n",
    "#         elif len_char_count % 2 != 0:\n",
    "#             print('Odd number of unique characters')\n",
    "#             if sum(list(char_count.values())) % num_spaces == 1:\n",
    "#                 return 'True'\n",
    "#             else:\n",
    "#                 return 'False'\n",
    "#             print()# len(list(char_count.keys())))\n",
    "# #             for i in range(len(list(char_count.values()))):\n",
    "# #                 if sum(list(char_count.values())) %2 != 0:\n",
    "                    \n",
    "# #                     return 'True'\n",
    "# #                 else: \n",
    "# #                     return 'False'\n",
    "#         else: \n",
    "#             print('Something is not quite right!')\n",
    "\n",
    "        \n",
    "palindrome(my_string = 'asdflak')"
   ]
  },
  {
   "cell_type": "code",
   "execution_count": null,
   "metadata": {},
   "outputs": [],
   "source": []
  }
 ],
 "metadata": {
  "kernelspec": {
   "display_name": "Python 3",
   "language": "python",
   "name": "python3"
  },
  "language_info": {
   "codemirror_mode": {
    "name": "ipython",
    "version": 3
   },
   "file_extension": ".py",
   "mimetype": "text/x-python",
   "name": "python",
   "nbconvert_exporter": "python",
   "pygments_lexer": "ipython3",
   "version": "3.6.4"
  },
  "toc": {
   "base_numbering": 1,
   "nav_menu": {},
   "number_sections": true,
   "sideBar": true,
   "skip_h1_title": true,
   "title_cell": "Table of Contents",
   "title_sidebar": "Contents",
   "toc_cell": false,
   "toc_position": {},
   "toc_section_display": true,
   "toc_window_display": false
  },
  "varInspector": {
   "cols": {
    "lenName": 16,
    "lenType": 16,
    "lenVar": 40
   },
   "kernels_config": {
    "python": {
     "delete_cmd_postfix": "",
     "delete_cmd_prefix": "del ",
     "library": "var_list.py",
     "varRefreshCmd": "print(var_dic_list())"
    },
    "r": {
     "delete_cmd_postfix": ") ",
     "delete_cmd_prefix": "rm(",
     "library": "var_list.r",
     "varRefreshCmd": "cat(var_dic_list()) "
    }
   },
   "types_to_exclude": [
    "module",
    "function",
    "builtin_function_or_method",
    "instance",
    "_Feature"
   ],
   "window_display": false
  }
 },
 "nbformat": 4,
 "nbformat_minor": 2
}
