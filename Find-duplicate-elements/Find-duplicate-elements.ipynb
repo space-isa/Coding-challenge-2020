{
 "cells": [
  {
   "cell_type": "code",
   "execution_count": 1,
   "metadata": {
    "ExecuteTime": {
     "end_time": "2020-04-08T22:35:06.404768Z",
     "start_time": "2020-04-08T22:35:04.411311Z"
    }
   },
   "outputs": [],
   "source": [
    "import numpy as np\n",
    "from collections import Counter\n",
    "import random\n",
    "import cProfile"
   ]
  },
  {
   "cell_type": "code",
   "execution_count": 2,
   "metadata": {
    "ExecuteTime": {
     "end_time": "2020-04-08T22:35:06.424867Z",
     "start_time": "2020-04-08T22:35:06.415164Z"
    }
   },
   "outputs": [],
   "source": [
    "def findDuplicates(my_array):\n",
    "    '''This function creates a dictionary containing the number of each element\n",
    "    then returns the elements that occur more than once.'''\n",
    "    if len(my_array) == 0:\n",
    "        return ('This array is empty!')\n",
    "    else:\n",
    "        duplicates = []\n",
    "        counter = Counter(my_array)\n",
    "    for element in counter:\n",
    "        if counter[element] >= 2:\n",
    "            duplicates.append(element)\n",
    "    return duplicates"
   ]
  },
  {
   "cell_type": "code",
   "execution_count": null,
   "metadata": {},
   "outputs": [],
   "source": [
    "def findDuplicatesLC(my_array):\n",
    "    '''This function creates a dictionary containing the number of each element\n",
    "    then returns the elements that occur more than once. Uses list comprehension.'''\n",
    "    if len(my_array) == 0:\n",
    "        return ('This array is empty!')\n",
    "    else:\n",
    "        duplicates2 = [\n",
    "            key for (key, val) in Counter(my_array).items() if val > 1\n",
    "        ]\n",
    "    return duplicates2"
   ]
  },
  {
   "cell_type": "code",
   "execution_count": 3,
   "metadata": {
    "ExecuteTime": {
     "end_time": "2020-04-08T22:35:06.439451Z",
     "start_time": "2020-04-08T22:35:06.429579Z"
    }
   },
   "outputs": [
    {
     "name": "stdout",
     "output_type": "stream",
     "text": [
      "6796\n"
     ]
    }
   ],
   "source": [
    "def createArray(num_elements):\n",
    "    my_array = np.random.randint(1, 100, num_elements)\n",
    "    print(len(my_array))\n",
    "    return my_array\n",
    "\n",
    "\n",
    "my_array = createArray(num_elements=np.random.randint(0, 10000))"
   ]
  },
  {
   "cell_type": "code",
   "execution_count": 4,
   "metadata": {
    "ExecuteTime": {
     "end_time": "2020-04-08T22:35:06.621134Z",
     "start_time": "2020-04-08T22:35:06.443412Z"
    }
   },
   "outputs": [
    {
     "name": "stdout",
     "output_type": "stream",
     "text": [
      "The following elements have duplicate entries using solution one: [69, 50, 52, 99, 38, 58, 94, 19, 48, 49, 30, 35, 18, 22, 33, 1, 97, 89, 34, 74, 62, 36, 31, 2, 12, 83, 47, 68, 64, 21, 86, 88, 39, 70, 11, 4, 6, 24, 40, 17, 67, 78, 29, 5, 45, 61, 32, 66, 44, 56, 72, 75, 91, 92, 27, 54, 3, 14, 76, 7, 65, 80, 81, 59, 9, 73, 71, 57, 37, 60, 55, 53, 28, 95, 23, 93, 98, 42, 79, 43, 41, 90, 8, 46, 16, 10, 13, 85, 77, 26, 82, 63, 96, 51, 25, 84, 15, 20, 87]\n",
      "         1548 function calls (1390 primitive calls) in 0.007 seconds\n",
      "\n",
      "   Ordered by: standard name\n",
      "\n",
      "   ncalls  tottime  percall  cumtime  percall filename:lineno(function)\n",
      "        1    0.000    0.000    0.005    0.005 <ipython-input-2-e804b502f24e>:1(findDuplicates)\n",
      "        1    0.000    0.000    0.005    0.005 <ipython-input-4-98175818bd91>:3(<module>)\n",
      "        1    0.000    0.000    0.001    0.001 <ipython-input-4-98175818bd91>:4(<module>)\n",
      "        1    0.000    0.000    0.000    0.000 <ipython-input-4-98175818bd91>:5(<module>)\n",
      "        1    0.000    0.000    0.005    0.005 __init__.py:517(__init__)\n",
      "        1    0.000    0.000    0.005    0.005 __init__.py:586(update)\n",
      "       16    0.000    0.000    0.000    0.000 _collections_abc.py:392(__subclasshook__)\n",
      "       20    0.000    0.000    0.000    0.000 _weakrefset.py:16(__init__)\n",
      "       20    0.000    0.000    0.000    0.000 _weakrefset.py:20(__enter__)\n",
      "       20    0.000    0.000    0.000    0.000 _weakrefset.py:26(__exit__)\n",
      "       14    0.000    0.000    0.000    0.000 _weakrefset.py:36(__init__)\n",
      "       20    0.000    0.000    0.000    0.000 _weakrefset.py:52(_commit_removals)\n",
      "       26    0.000    0.000    0.000    0.000 _weakrefset.py:58(__iter__)\n",
      "       55    0.000    0.000    0.000    0.000 _weakrefset.py:70(__contains__)\n",
      "       20    0.000    0.000    0.000    0.000 _weakrefset.py:81(add)\n",
      "        1    0.000    0.000    0.001    0.001 abc.py:178(__instancecheck__)\n",
      "     34/1    0.000    0.000    0.001    0.001 abc.py:194(__subclasscheck__)\n",
      "       99    0.000    0.000    0.001    0.000 arrayprint.py:381(wrapper)\n",
      "       99    0.000    0.000    0.000    0.000 arrayprint.py:399(array2string)\n",
      "        3    0.000    0.000    0.000    0.000 codeop.py:132(__call__)\n",
      "        3    0.000    0.000    0.000    0.000 hooks.py:142(__call__)\n",
      "        3    0.000    0.000    0.000    0.000 hooks.py:207(pre_run_code_hook)\n",
      "        3    0.000    0.000    0.000    0.000 interactiveshell.py:1104(user_global_ns)\n",
      "        3    0.000    0.000    0.007    0.002 interactiveshell.py:2933(run_code)\n",
      "        3    0.000    0.000    0.000    0.000 iostream.py:195(schedule)\n",
      "        2    0.000    0.000    0.000    0.000 iostream.py:300(_is_master_process)\n",
      "        2    0.000    0.000    0.000    0.000 iostream.py:313(_schedule_flush)\n",
      "        2    0.000    0.000    0.000    0.000 iostream.py:366(write)\n",
      "        3    0.000    0.000    0.000    0.000 iostream.py:93(_event_pipe)\n",
      "        3    0.000    0.000    0.000    0.000 ipstruct.py:125(__getattr__)\n",
      "       99    0.000    0.000    0.001    0.000 numeric.py:1905(array_str)\n",
      "        3    0.000    0.000    0.000    0.000 socket.py:333(send)\n",
      "        3    0.000    0.000    0.000    0.000 threading.py:1062(_wait_for_tstate_lock)\n",
      "        3    0.000    0.000    0.000    0.000 threading.py:1104(is_alive)\n",
      "        3    0.000    0.000    0.000    0.000 threading.py:506(is_set)\n",
      "       12    0.000    0.000    0.000    0.000 typing.py:1019(_abc_negative_cache)\n",
      "        4    0.000    0.000    0.000    0.000 typing.py:1025(_abc_negative_cache)\n",
      "        9    0.000    0.000    0.000    0.000 typing.py:1033(_abc_negative_cache_version)\n",
      "        4    0.000    0.000    0.000    0.000 typing.py:1039(_abc_negative_cache_version)\n",
      "       14    0.000    0.000    0.000    0.000 typing.py:1089(__eq__)\n",
      "     18/5    0.000    0.000    0.001    0.000 typing.py:1145(__subclasscheck__)\n",
      "     16/8    0.000    0.000    0.000    0.000 typing.py:1164(__setattr__)\n",
      "        3    0.000    0.000    0.000    0.000 typing.py:875(__extrahook__)\n",
      "        4    0.000    0.000    0.000    0.000 typing.py:889(__extrahook__)\n",
      "        1    0.004    0.004    0.004    0.004 {built-in method _collections._count_elements}\n",
      "       99    0.000    0.000    0.000    0.000 {built-in method _thread.get_ident}\n",
      "        3    0.000    0.000    0.000    0.000 {built-in method builtins.compile}\n",
      "        3    0.000    0.000    0.006    0.002 {built-in method builtins.exec}\n",
      "       20    0.000    0.000    0.000    0.000 {built-in method builtins.getattr}\n",
      "       99    0.000    0.000    0.000    0.000 {built-in method builtins.id}\n",
      "     63/3    0.000    0.000    0.001    0.000 {built-in method builtins.isinstance}\n",
      "     51/7    0.000    0.000    0.001    0.000 {built-in method builtins.issubclass}\n",
      "        3    0.000    0.000    0.000    0.000 {built-in method builtins.len}\n",
      "        1    0.000    0.000    0.000    0.000 {built-in method builtins.print}\n",
      "        2    0.000    0.000    0.000    0.000 {built-in method posix.getpid}\n",
      "        9    0.000    0.000    0.000    0.000 {built-in method sys._getframe}\n",
      "       23    0.000    0.000    0.000    0.000 {method '__subclasses__' of 'type' objects}\n",
      "        3    0.000    0.000    0.000    0.000 {method 'acquire' of '_thread.lock' objects}\n",
      "      139    0.000    0.000    0.000    0.000 {method 'add' of 'set' objects}\n",
      "        3    0.000    0.000    0.000    0.000 {method 'append' of 'collections.deque' objects}\n",
      "       99    0.000    0.000    0.000    0.000 {method 'append' of 'list' objects}\n",
      "        1    0.000    0.000    0.000    0.000 {method 'disable' of '_lsprof.Profiler' objects}\n",
      "       99    0.000    0.000    0.000    0.000 {method 'discard' of 'set' objects}\n",
      "        1    0.000    0.000    0.001    0.001 {method 'format' of 'str' objects}\n",
      "       99    0.000    0.000    0.000    0.000 {method 'item' of 'numpy.ndarray' objects}\n",
      "       20    0.000    0.000    0.000    0.000 {method 'remove' of 'set' objects}\n",
      "       32    0.000    0.000    0.000    0.000 {method 'startswith' of 'str' objects}\n",
      "\n",
      "\n"
     ]
    }
   ],
   "source": [
    "profile = cProfile.Profile()\n",
    "profile.enable()\n",
    "duplicates = findDuplicates(my_array)\n",
    "print('The following elements have duplicate entries using solution one: {}'.\n",
    "      format(duplicates))\n",
    "profile.disable()\n",
    "profile.print_stats()"
   ]
  },
  {
   "cell_type": "code",
   "execution_count": 5,
   "metadata": {
    "ExecuteTime": {
     "end_time": "2020-04-08T22:35:06.688981Z",
     "start_time": "2020-04-08T22:35:06.627666Z"
    },
    "scrolled": false
   },
   "outputs": [
    {
     "name": "stdout",
     "output_type": "stream",
     "text": [
      "The following elements have duplicate entries using solution two: [69, 50, 52, 99, 38, 58, 94, 19, 48, 49, 30, 35, 18, 22, 33, 1, 97, 89, 34, 74, 62, 36, 31, 2, 12, 83, 47, 68, 64, 21, 86, 88, 39, 70, 11, 4, 6, 24, 40, 17, 67, 78, 29, 5, 45, 61, 32, 66, 44, 56, 72, 75, 91, 92, 27, 54, 3, 14, 76, 7, 65, 80, 81, 59, 9, 73, 71, 57, 37, 60, 55, 53, 28, 95, 23, 93, 98, 42, 79, 43, 41, 90, 8, 46, 16, 10, 13, 85, 77, 26, 82, 63, 96, 51, 25, 84, 15, 20, 87]\n",
      "         2417 function calls (2259 primitive calls) in 0.012 seconds\n",
      "\n",
      "   Ordered by: standard name\n",
      "\n",
      "   ncalls  tottime  percall  cumtime  percall filename:lineno(function)\n",
      "        1    0.000    0.000    0.005    0.005 <ipython-input-2-e804b502f24e>:1(findDuplicates)\n",
      "        1    0.000    0.000    0.003    0.003 <ipython-input-2-e804b502f24e>:14(findDuplicatesLC)\n",
      "        1    0.000    0.000    0.000    0.000 <ipython-input-2-e804b502f24e>:20(<listcomp>)\n",
      "        1    0.000    0.000    0.005    0.005 <ipython-input-4-98175818bd91>:3(<module>)\n",
      "        1    0.000    0.000    0.001    0.001 <ipython-input-4-98175818bd91>:4(<module>)\n",
      "        1    0.000    0.000    0.000    0.000 <ipython-input-4-98175818bd91>:5(<module>)\n",
      "        1    0.000    0.000    0.003    0.003 <ipython-input-5-5cea3bd36aff>:2(<module>)\n",
      "        1    0.000    0.000    0.002    0.002 <ipython-input-5-5cea3bd36aff>:3(<module>)\n",
      "        1    0.000    0.000    0.000    0.000 <ipython-input-5-5cea3bd36aff>:4(<module>)\n",
      "        2    0.000    0.000    0.008    0.004 __init__.py:517(__init__)\n",
      "        2    0.000    0.000    0.008    0.004 __init__.py:586(update)\n",
      "       16    0.000    0.000    0.000    0.000 _collections_abc.py:392(__subclasshook__)\n",
      "       20    0.000    0.000    0.000    0.000 _weakrefset.py:16(__init__)\n",
      "       20    0.000    0.000    0.000    0.000 _weakrefset.py:20(__enter__)\n",
      "       20    0.000    0.000    0.000    0.000 _weakrefset.py:26(__exit__)\n",
      "       14    0.000    0.000    0.000    0.000 _weakrefset.py:36(__init__)\n",
      "       20    0.000    0.000    0.000    0.000 _weakrefset.py:52(_commit_removals)\n",
      "       26    0.000    0.000    0.000    0.000 _weakrefset.py:58(__iter__)\n",
      "       57    0.000    0.000    0.000    0.000 _weakrefset.py:70(__contains__)\n",
      "       20    0.000    0.000    0.000    0.000 _weakrefset.py:81(add)\n",
      "        2    0.000    0.000    0.001    0.001 abc.py:178(__instancecheck__)\n",
      "     34/1    0.000    0.000    0.001    0.001 abc.py:194(__subclasscheck__)\n",
      "      198    0.001    0.000    0.001    0.000 arrayprint.py:381(wrapper)\n",
      "      198    0.000    0.000    0.000    0.000 arrayprint.py:399(array2string)\n",
      "        6    0.000    0.000    0.000    0.000 codeop.py:132(__call__)\n",
      "        6    0.000    0.000    0.000    0.000 hooks.py:142(__call__)\n",
      "        6    0.000    0.000    0.000    0.000 hooks.py:207(pre_run_code_hook)\n",
      "        6    0.000    0.000    0.000    0.000 interactiveshell.py:1104(user_global_ns)\n",
      "        6    0.000    0.000    0.012    0.002 interactiveshell.py:2933(run_code)\n",
      "        6    0.000    0.000    0.000    0.000 iostream.py:195(schedule)\n",
      "        4    0.000    0.000    0.000    0.000 iostream.py:300(_is_master_process)\n",
      "        4    0.000    0.000    0.000    0.000 iostream.py:313(_schedule_flush)\n",
      "        4    0.000    0.000    0.000    0.000 iostream.py:366(write)\n",
      "        6    0.000    0.000    0.000    0.000 iostream.py:93(_event_pipe)\n",
      "        6    0.000    0.000    0.000    0.000 ipstruct.py:125(__getattr__)\n",
      "      198    0.001    0.000    0.003    0.000 numeric.py:1905(array_str)\n",
      "        6    0.000    0.000    0.000    0.000 socket.py:333(send)\n",
      "        6    0.000    0.000    0.000    0.000 threading.py:1062(_wait_for_tstate_lock)\n",
      "        6    0.000    0.000    0.000    0.000 threading.py:1104(is_alive)\n",
      "        6    0.000    0.000    0.000    0.000 threading.py:506(is_set)\n",
      "       12    0.000    0.000    0.000    0.000 typing.py:1019(_abc_negative_cache)\n",
      "        4    0.000    0.000    0.000    0.000 typing.py:1025(_abc_negative_cache)\n",
      "        9    0.000    0.000    0.000    0.000 typing.py:1033(_abc_negative_cache_version)\n",
      "        4    0.000    0.000    0.000    0.000 typing.py:1039(_abc_negative_cache_version)\n",
      "       14    0.000    0.000    0.000    0.000 typing.py:1089(__eq__)\n",
      "     18/5    0.000    0.000    0.001    0.000 typing.py:1145(__subclasscheck__)\n",
      "     16/8    0.000    0.000    0.000    0.000 typing.py:1164(__setattr__)\n",
      "        3    0.000    0.000    0.000    0.000 typing.py:875(__extrahook__)\n",
      "        4    0.000    0.000    0.000    0.000 typing.py:889(__extrahook__)\n",
      "        2    0.007    0.003    0.007    0.003 {built-in method _collections._count_elements}\n",
      "      198    0.000    0.000    0.000    0.000 {built-in method _thread.get_ident}\n",
      "        6    0.000    0.000    0.000    0.000 {built-in method builtins.compile}\n",
      "        6    0.000    0.000    0.012    0.002 {built-in method builtins.exec}\n",
      "       20    0.000    0.000    0.000    0.000 {built-in method builtins.getattr}\n",
      "      198    0.000    0.000    0.000    0.000 {built-in method builtins.id}\n",
      "     66/6    0.000    0.000    0.001    0.000 {built-in method builtins.isinstance}\n",
      "     51/7    0.000    0.000    0.001    0.000 {built-in method builtins.issubclass}\n",
      "        6    0.000    0.000    0.000    0.000 {built-in method builtins.len}\n",
      "        2    0.000    0.000    0.000    0.000 {built-in method builtins.print}\n",
      "        4    0.000    0.000    0.000    0.000 {built-in method posix.getpid}\n",
      "        9    0.000    0.000    0.000    0.000 {built-in method sys._getframe}\n",
      "       23    0.000    0.000    0.000    0.000 {method '__subclasses__' of 'type' objects}\n",
      "        6    0.000    0.000    0.000    0.000 {method 'acquire' of '_thread.lock' objects}\n",
      "      238    0.000    0.000    0.000    0.000 {method 'add' of 'set' objects}\n",
      "        6    0.000    0.000    0.000    0.000 {method 'append' of 'collections.deque' objects}\n",
      "       99    0.000    0.000    0.000    0.000 {method 'append' of 'list' objects}\n",
      "        2    0.000    0.000    0.000    0.000 {method 'disable' of '_lsprof.Profiler' objects}\n",
      "      198    0.000    0.000    0.000    0.000 {method 'discard' of 'set' objects}\n",
      "        2    0.000    0.000    0.003    0.002 {method 'format' of 'str' objects}\n",
      "      198    0.000    0.000    0.000    0.000 {method 'item' of 'numpy.ndarray' objects}\n",
      "        1    0.000    0.000    0.000    0.000 {method 'items' of 'dict' objects}\n",
      "       20    0.000    0.000    0.000    0.000 {method 'remove' of 'set' objects}\n",
      "       32    0.000    0.000    0.000    0.000 {method 'startswith' of 'str' objects}\n",
      "\n",
      "\n"
     ]
    }
   ],
   "source": [
    "profile.enable()\n",
    "duplicates2 = findDuplicatesLC(my_array)\n",
    "print('The following elements have duplicate entries using solution two: {}'.\n",
    "      format(duplicates2))\n",
    "profile.disable()\n",
    "profile.print_stats()"
   ]
  },
  {
   "cell_type": "code",
   "execution_count": null,
   "metadata": {
    "ExecuteTime": {
     "end_time": "2020-04-08T22:35:07.823100Z",
     "start_time": "2020-04-08T22:35:04.420Z"
    }
   },
   "outputs": [],
   "source": [
    "duplicates == duplicates2"
   ]
  },
  {
   "cell_type": "markdown",
   "metadata": {},
   "source": [
    "Note: List comprehension is slower! (0.012 s vs 0.007 s) "
   ]
  }
 ],
 "metadata": {
  "kernelspec": {
   "display_name": "Python 3",
   "language": "python",
   "name": "python3"
  },
  "language_info": {
   "codemirror_mode": {
    "name": "ipython",
    "version": 3
   },
   "file_extension": ".py",
   "mimetype": "text/x-python",
   "name": "python",
   "nbconvert_exporter": "python",
   "pygments_lexer": "ipython3",
   "version": "3.6.4"
  },
  "toc": {
   "base_numbering": 1,
   "nav_menu": {},
   "number_sections": true,
   "sideBar": true,
   "skip_h1_title": true,
   "title_cell": "Table of Contents",
   "title_sidebar": "Contents",
   "toc_cell": false,
   "toc_position": {},
   "toc_section_display": true,
   "toc_window_display": false
  },
  "varInspector": {
   "cols": {
    "lenName": 16,
    "lenType": 16,
    "lenVar": 40
   },
   "kernels_config": {
    "python": {
     "delete_cmd_postfix": "",
     "delete_cmd_prefix": "del ",
     "library": "var_list.py",
     "varRefreshCmd": "print(var_dic_list())"
    },
    "r": {
     "delete_cmd_postfix": ") ",
     "delete_cmd_prefix": "rm(",
     "library": "var_list.r",
     "varRefreshCmd": "cat(var_dic_list()) "
    }
   },
   "types_to_exclude": [
    "module",
    "function",
    "builtin_function_or_method",
    "instance",
    "_Feature"
   ],
   "window_display": false
  }
 },
 "nbformat": 4,
 "nbformat_minor": 2
}
