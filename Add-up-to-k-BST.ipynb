{
 "cells": [
  {
   "cell_type": "markdown",
   "metadata": {},
   "source": [
    "# Add up to k (BST version)  \n",
    "2020.02.03 | Part 1: Learning to build a BST\n",
    "\n",
    "Following along with tutorial: https://www.youtube.com/watch?v=f5dU3xoE6ms"
   ]
  },
  {
   "cell_type": "markdown",
   "metadata": {},
   "source": [
    "## The problem: \n",
    "[From: Daily Coding Challenge]\n",
    "Given the root of a binary search tree, and a target K, return two nodes in the tree whose sum equals K.\n",
    "\n",
    "For example, given the following tree and K of 20\n",
    "\n",
    "       10\n",
    "       /   \\\n",
    "    5       15\n",
    "             /  \\\n",
    "          11    15\n",
    "\n",
    "## What we know: \n",
    "\n",
    "- Inputs: a number and a tree\n",
    "- Output: two numbers   \n",
    "\n",
    "About binary search tree: \n",
    "- binary => at most two connections from each node\n",
    "- For a child node: \n",
    "    - L: smaller value than parent\n",
    "    - R: larger value than parent\n",
    "\n",
    "### Q&As (questions and assumptions):  \n",
    "\n",
    "- A: Using integer values for each node.\n",
    "- Q: How to build tree s.t. the nodes can be easily changed with an input array.\n",
    " \n",
    "### Cases to consider: \n",
    "1) No pair exists "
   ]
  },
  {
   "cell_type": "markdown",
   "metadata": {},
   "source": [
    "# Lets begin! \n",
    "The Algorithm: addUpBST()\n",
    "\n",
    "1) From a constructor class, create BST using predetermined input. \n",
    "\n",
    "2) Starting from the root, check the children nodes and see if their sum adds up to the target K. \n",
    "\n",
    "3) If not, move on to the next node and repeat. \n",
    "\n",
    "4) If after reaching the leaf nodes we have not found a pair of nodes that add up to the target, return NULL. \n",
    "\n",
    "5) If we find the target, return the values of the two nodes."
   ]
  },
  {
   "cell_type": "code",
   "execution_count": 60,
   "metadata": {
    "ExecuteTime": {
     "end_time": "2020-02-05T05:45:15.236500Z",
     "start_time": "2020-02-05T05:45:15.216565Z"
    }
   },
   "outputs": [
    {
     "name": "stdout",
     "output_type": "stream",
     "text": [
      "Current node: 10\n",
      "To the left of 10: 5 \n",
      "-----\n",
      "To the right of 10: 15 \n",
      "Huzzah!\n",
      "None\n"
     ]
    }
   ],
   "source": [
    "import numpy as np \n",
    "\n",
    "class Node: \n",
    "    def __init__(self, value = None):\n",
    "        self.value = value\n",
    "        self.left_child = None#pointer \n",
    "        self.right_child = None #pointer\n",
    "        \n",
    "    def __str__(self):\n",
    "        return('Node {}: left = {}, right = {}'.format(self.value, self.left_child, self.right_child))\n",
    "\n",
    "class BST: \n",
    "    def __init__(self):\n",
    "        self.root = None \n",
    "        \n",
    "    def __str__(self):\n",
    "        return('From BST: root: {}'.format(self.root))\n",
    "        \n",
    "    '''A function that either creates a new root, or begins the process of inserting nodes.'''\n",
    "    def insert(self, value):\n",
    "        if self.root == None: \n",
    "            self.root = Node(value) #new instance of the node class \n",
    "        else: \n",
    "            self._insert(value, self.root) #_ => private function\n",
    "            \n",
    "    '''A private recursive function that adds values down the left and right children'''\n",
    "    def _insert(self, value, current_node):\n",
    "        if value < current_node.value:\n",
    "            if current_node.left_child == None: \n",
    "                current_node.left_child = Node(value)\n",
    "            else: \n",
    "                self._insert(value, current_node.left_child)  \n",
    "        else: \n",
    "            if current_node.right_child == None: \n",
    "                current_node.right_child = Node(value)\n",
    "            else:\n",
    "                self._insert(value, current_node.right_child) \n",
    "            \n",
    "    '''An in-order traversal to check whether the BST has been set up correctly.'''       \n",
    "    def printBST(self):\n",
    "        if self.root != None: \n",
    "            self._printBST(self.root)\n",
    "             \n",
    "    def _printBST(self, current_node):\n",
    "        if current_node != None:\n",
    "            self._printBST(current_node.left_child)\n",
    "            print('In-order traversal: {}'.format(current_node.value))\n",
    "            self._printBST(current_node.right_child)\n",
    "\n",
    "    def search(self):\n",
    "        if self.root != None: \n",
    "            self._search(self.root)\n",
    "  \n",
    "    def _search(self, current_node):\n",
    "        if current_node != None: \n",
    "            if current_node.value == 10:  #root node \n",
    "                print('Current node: {}'.format(current_node.value))\n",
    "                print('To the left of {}: {} '.format(current_node.value, self.root.left_child.value))\n",
    "                print('-----')\n",
    "                print('To the right of {}: {} '.format(current_node.value, self.root.right_child.value))\n",
    "                if self.root.left_child.value + self.root.right_child.value == 20:\n",
    "                    print ('Huzzah!')\n",
    "\n",
    "# 20200204: Okay, so we were able to (via hard code) access the children of the root node, \n",
    "# add up their values, and see if they add up to our target (k = 20)\n",
    "# Tomorrow: iterating through levels...there's also that None?? What is it? Why is it there???\n",
    "# Also to do: incorporate so that target value can be added to function outside class \n",
    "    \n",
    "def buildTree(input_BST):\n",
    "    tree = BST()\n",
    "    for i in range(len(input_BST)):\n",
    "        tree.insert(input_BST[i])\n",
    "    print(tree.search())\n",
    "\n",
    "buildTree(input_BST=[10,15,11,5, 15]) #put in with root first!"
   ]
  },
  {
   "cell_type": "code",
   "execution_count": null,
   "metadata": {},
   "outputs": [],
   "source": []
  }
 ],
 "metadata": {
  "kernelspec": {
   "display_name": "Python 3",
   "language": "python",
   "name": "python3"
  },
  "language_info": {
   "codemirror_mode": {
    "name": "ipython",
    "version": 3
   },
   "file_extension": ".py",
   "mimetype": "text/x-python",
   "name": "python",
   "nbconvert_exporter": "python",
   "pygments_lexer": "ipython3",
   "version": "3.6.4"
  },
  "toc": {
   "base_numbering": 1,
   "nav_menu": {},
   "number_sections": true,
   "sideBar": true,
   "skip_h1_title": true,
   "title_cell": "Table of Contents",
   "title_sidebar": "Contents",
   "toc_cell": false,
   "toc_position": {},
   "toc_section_display": true,
   "toc_window_display": false
  },
  "varInspector": {
   "cols": {
    "lenName": 16,
    "lenType": 16,
    "lenVar": 40
   },
   "kernels_config": {
    "python": {
     "delete_cmd_postfix": "",
     "delete_cmd_prefix": "del ",
     "library": "var_list.py",
     "varRefreshCmd": "print(var_dic_list())"
    },
    "r": {
     "delete_cmd_postfix": ") ",
     "delete_cmd_prefix": "rm(",
     "library": "var_list.r",
     "varRefreshCmd": "cat(var_dic_list()) "
    }
   },
   "types_to_exclude": [
    "module",
    "function",
    "builtin_function_or_method",
    "instance",
    "_Feature"
   ],
   "window_display": false
  }
 },
 "nbformat": 4,
 "nbformat_minor": 2
}
