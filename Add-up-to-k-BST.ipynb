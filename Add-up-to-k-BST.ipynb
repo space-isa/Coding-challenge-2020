{
 "cells": [
  {
   "cell_type": "markdown",
   "metadata": {},
   "source": [
    "# Add up to k (BST version)  \n",
    "2020.02.03 | Part 1: Learning to build a BST\n",
    "\n",
    "Following along with tutorial: https://www.youtube.com/watch?v=f5dU3xoE6ms"
   ]
  },
  {
   "cell_type": "markdown",
   "metadata": {},
   "source": [
    "## The problem: \n",
    "[From: Daily Coding Challenge]\n",
    "Given the root of a binary search tree, and a target K, return two nodes in the tree whose sum equals K.\n",
    "\n",
    "For example, given the following tree and K of 20\n",
    "\n",
    "       10\n",
    "       /   \\\n",
    "    5       15\n",
    "             /  \\\n",
    "          11    15\n",
    "\n",
    "## What we know: \n",
    "\n",
    "- Inputs: a number and a tree\n",
    "- Output: two numbers   \n",
    "\n",
    "About binary search tree: \n",
    "- binary => at most two connections from each node\n",
    "- For a child node: \n",
    "    - L: smaller value than parent\n",
    "    - R: larger value than parent\n",
    "\n",
    "### Q&As (questions and assumptions):  \n",
    "\n",
    "- A: Using integer values for each node.\n",
    "- Q: How to build tree s.t. the nodes can be easily changed with an input array.\n",
    " \n",
    "### Cases to consider: \n",
    "1) No pair exists "
   ]
  },
  {
   "cell_type": "markdown",
   "metadata": {},
   "source": [
    "# Lets begin! \n",
    "The Algorithm: addUpBST()\n",
    "\n",
    "1) From a constructor class, create BST using predetermined input. \n",
    "\n",
    "2) Starting from the root, check the children nodes and see if their sum adds up to the target K. \n",
    "\n",
    "3) If not, move on to the next node and repeat. \n",
    "\n",
    "4) If after reaching the leaf nodes we have not found a pair of nodes that add up to the target, return NULL. \n",
    "\n",
    "5) If we find the target, return the values of the two nodes."
   ]
  },
  {
   "cell_type": "code",
   "execution_count": 103,
   "metadata": {
    "ExecuteTime": {
     "end_time": "2020-02-04T05:49:47.882023Z",
     "start_time": "2020-02-04T05:49:47.850652Z"
    }
   },
   "outputs": [
    {
     "name": "stdout",
     "output_type": "stream",
     "text": [
      "10\n",
      "In-order traversal: 5\n",
      "In-order traversal: 11\n",
      "In-order traversal: 15\n",
      "In-order traversal: 15\n"
     ]
    }
   ],
   "source": [
    "import numpy as np \n",
    "\n",
    "class Node: \n",
    "    def __init__(self, value = None):\n",
    "        self.value = value\n",
    "        self.left_child = None#pointer \n",
    "        self.right_child = None #pointer\n",
    "        \n",
    "    def __str__(self):\n",
    "        return('From Node: value: {}, left: {}, right: {}'.format(self.value, self.left_child, self.right_child))\n",
    "\n",
    "class BST: \n",
    "    def __init__(self):\n",
    "        self.root = None \n",
    "        \n",
    "    def __str__(self):\n",
    "        return('From BST: root: {}'.format(self.root))\n",
    "        \n",
    "    '''A function that either creates a new root, or begins the process of inserting nodes.'''\n",
    "    def insert(self, value):\n",
    "        if self.root == None: \n",
    "            self.root = Node(value) #new instance of the node class \n",
    "        else: \n",
    "            self._insert(value, self.root) #_ => private function\n",
    "            \n",
    "    '''A private recursive function that adds values down the left and right children'''\n",
    "    def _insert(self, value, current_node):\n",
    "        if value < current_node.value:\n",
    "            if current_node.left_child == None: \n",
    "                current_node.left_child = Node(value)\n",
    "            else: \n",
    "                self._insert(value, current_node.left_child)  \n",
    "        else: \n",
    "            if current_node.right_child == None: \n",
    "                current_node.right_child = Node(value)\n",
    "            else:\n",
    "                self._insert(value, current_node.right_child) \n",
    "            \n",
    "    '''An in-order traversal to check whether the BST has been set up correctly.'''       \n",
    "    def printBST(self):\n",
    "        if self.root != None: \n",
    "            self._printBST(self.root)\n",
    "             \n",
    "    def _printBST(self, current_node):\n",
    "        if current_node != None:\n",
    "            self._printBST(current_node.left_child)\n",
    "            print('In-order traversal: {}'.format(current_node.value))\n",
    "            self._printBST(current_node.right_child)\n",
    "            \n",
    "#     def addChildren(self):\n",
    "#         if self.root != None: \n",
    "#             self._addChildren(self.root)\n",
    "            \n",
    "#     def _addChildren(self, current_node): \n",
    "#         if current_node != None: \n",
    "#             self._addChildren(current_node.left_child)\n",
    "#             print(current_node.left_child + current_node.right_child)\n",
    "#             self._addChildren(current_node.right_child)\n",
    "#             if current_node.left_child + current_node.right_child == 20: \n",
    "#                 print('Match')\n",
    "    \n",
    "def buildTree(root, input_BST):\n",
    "    tree = BST()\n",
    "    BST.root = 10\n",
    "    print(str(BST.root))\n",
    "    for i in range(len(input_BST)):\n",
    "        tree.insert(input_BST[i])\n",
    "#         print(tree.root)\n",
    "#     print(str(tree))\n",
    "    return tree.printBST()\n",
    "\n",
    "buildTree(10, input_BST=[15,15,11,5])"
   ]
  },
  {
   "cell_type": "markdown",
   "metadata": {},
   "source": [
    "## Reflection"
   ]
  },
  {
   "cell_type": "code",
   "execution_count": 20,
   "metadata": {
    "ExecuteTime": {
     "end_time": "2020-02-03T00:09:36.330470Z",
     "start_time": "2020-02-03T00:09:36.322573Z"
    }
   },
   "outputs": [
    {
     "data": {
      "text/plain": [
       "'Draft code (partial):'"
      ]
     },
     "execution_count": 20,
     "metadata": {},
     "output_type": "execute_result"
    }
   ],
   "source": [
    "'''First round: tried to remove numbers larger than k, sort, add 0 in case len was odd, then add pairwise from each end'''\n",
    "'''Realized there were cases in which there were pairs but they werent being added'''\n",
    "'''Then thought to put the difference in a seperate array to see if the difference was in the mod array'''\n",
    "'''THEN realized that in just a few lines of code, you can check to see if the difference was in the original array.'''\n",
    "'''Draft code (partial):'''\n",
    "\n",
    "#     difference = []\n",
    "#         print(number_needed[i], my_array[i])\n",
    "#         if number_needed[i] in my_array:\n",
    "#             print('Match')\n",
    "    \n",
    "#         if number_needed[i] == my_new_array[i]:\n",
    "#             print('Found a match!')\n",
    "#     for element in number_needed: \n",
    "#         if element is in my_new_array:\n",
    "#             print('True')\n",
    "#     print('The largest number is: {} ' .format(max(my_new_array)))\n",
    "#     print('The number I need to make {} is {}'.format(k, (k -max(my_new_array))))\n",
    "   \n",
    "#     for i in range(int(len(my_new_array)/2)):\n",
    "#         if my_new_array[len(my_new_array) - 1 - i] + my_new_array[i] == k:\n",
    "#             return True \n",
    "#         elif my_new_array[len(my_new_array) - 1 - i] + my_new_array[i] != k:\n",
    "#             if(i+1, 'we are here:', int(len(my_new_array)/2)):\n",
    "#                 return('There are no pairs that add up to {}'.format(k))\n",
    "#             else: \n",
    "#                 continue"
   ]
  },
  {
   "cell_type": "code",
   "execution_count": null,
   "metadata": {},
   "outputs": [],
   "source": []
  }
 ],
 "metadata": {
  "kernelspec": {
   "display_name": "Python 3",
   "language": "python",
   "name": "python3"
  },
  "language_info": {
   "codemirror_mode": {
    "name": "ipython",
    "version": 3
   },
   "file_extension": ".py",
   "mimetype": "text/x-python",
   "name": "python",
   "nbconvert_exporter": "python",
   "pygments_lexer": "ipython3",
   "version": "3.6.4"
  },
  "toc": {
   "base_numbering": 1,
   "nav_menu": {},
   "number_sections": true,
   "sideBar": true,
   "skip_h1_title": true,
   "title_cell": "Table of Contents",
   "title_sidebar": "Contents",
   "toc_cell": false,
   "toc_position": {},
   "toc_section_display": true,
   "toc_window_display": false
  },
  "varInspector": {
   "cols": {
    "lenName": 16,
    "lenType": 16,
    "lenVar": 40
   },
   "kernels_config": {
    "python": {
     "delete_cmd_postfix": "",
     "delete_cmd_prefix": "del ",
     "library": "var_list.py",
     "varRefreshCmd": "print(var_dic_list())"
    },
    "r": {
     "delete_cmd_postfix": ") ",
     "delete_cmd_prefix": "rm(",
     "library": "var_list.r",
     "varRefreshCmd": "cat(var_dic_list()) "
    }
   },
   "types_to_exclude": [
    "module",
    "function",
    "builtin_function_or_method",
    "instance",
    "_Feature"
   ],
   "window_display": false
  }
 },
 "nbformat": 4,
 "nbformat_minor": 2
}
