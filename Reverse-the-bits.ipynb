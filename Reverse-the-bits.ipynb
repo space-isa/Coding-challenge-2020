{
 "cells": [
  {
   "cell_type": "markdown",
   "metadata": {},
   "source": [
    "# Reverse the bits \n",
    "2020.01.26"
   ]
  },
  {
   "cell_type": "markdown",
   "metadata": {},
   "source": [
    "## The problem: \n",
    "[From: Daily Coding Challenge]\n",
    "\n",
    "Given a 32-bit integer, return the number with its bits reversed.\n",
    "\n",
    "For example, given the binary number 1111 0000 1111 0000 1111 0000 1111 0000, \n",
    "\n",
    "return 0000 1111 0000 1111 0000 1111 0000 1111.\n",
    "\n",
    "## What we know: \n",
    "\n",
    "- A 32-bit integer is a string of 32 0's and 1's. \n",
    "- Input: an array\n",
    "- Output: a reversed array\n",
    "\n",
    "### Q&As (questions and assumptions):  \n",
    "\n",
    "- Q: Is the input a string or an array of integers? \n",
    "- A: Lets start with arrays \n",
    "\n",
    "- Q: Can we assume that the 32-bit integer is broken down into chunks of 4 (octaves), e.g. [[1111]....[0000]], v. a continuous string [1111....0000]? \n",
    "- A: Let's work in octaves! \n",
    "\n",
    "### Cases to consider: \n",
    "1) We're given an empty array.\n",
    "\n",
    "2) We're given multiple 32-bit integers. "
   ]
  },
  {
   "cell_type": "markdown",
   "metadata": {},
   "source": [
    "# Lets begin! "
   ]
  },
  {
   "cell_type": "code",
   "execution_count": 1,
   "metadata": {
    "ExecuteTime": {
     "end_time": "2020-01-27T03:58:39.906634Z",
     "start_time": "2020-01-27T03:58:39.631676Z"
    }
   },
   "outputs": [],
   "source": [
    "import numpy as np \n",
    "\n",
    "'''Question: We are assuming the problem uses either 1111 or 0000.\n",
    "Is it possible that permutations of 1 and 0 are also possible inputs?'''\n",
    "\n",
    "#integer case\n",
    "ones = [1, 1, 1, 1]\n",
    "zeros = [0, 0, 0, 0]\n",
    "\n",
    "#string case\n",
    "ones_str = [ '1111']\n",
    "zeros_str = ['0000']"
   ]
  },
  {
   "cell_type": "markdown",
   "metadata": {},
   "source": [
    "## Test cases (uncomment to select) "
   ]
  },
  {
   "cell_type": "code",
   "execution_count": 2,
   "metadata": {
    "ExecuteTime": {
     "end_time": "2020-01-27T03:58:39.931555Z",
     "start_time": "2020-01-27T03:58:39.909981Z"
    }
   },
   "outputs": [
    {
     "data": {
      "text/plain": [
       "'Case 4: The empty set'"
      ]
     },
     "execution_count": 2,
     "metadata": {},
     "output_type": "execute_result"
    }
   ],
   "source": [
    "'''Case 1: Full 32-bit integer (integer octaves)'''\n",
    "input_array = [ones, zeros, ones, zeros, \n",
    "         ones, zeros, ones, zeros]\n",
    "\n",
    "\"\"\"Case 2: Full 32-bit integer (string octaves)\"\"\"\n",
    "# input_array = [ones_str, zeros_str, ones_str, zeros_str, \n",
    "#          ones_str, zeros_str, ones_str, zeros_str]\n",
    "\n",
    "'''Case 3: An incomplete input'''\n",
    "# input_array = [ones_str[0]]\n",
    "\n",
    "'''Case 4: The empty set'''\n",
    "# input_array = []"
   ]
  },
  {
   "cell_type": "markdown",
   "metadata": {},
   "source": [
    "## reverseBits()\n",
    "\n",
    "Takes in an input array (main input: a 2d array), outputs its reverse.  "
   ]
  },
  {
   "cell_type": "code",
   "execution_count": 3,
   "metadata": {
    "ExecuteTime": {
     "end_time": "2020-01-27T03:58:39.948459Z",
     "start_time": "2020-01-27T03:58:39.935785Z"
    }
   },
   "outputs": [
    {
     "name": "stdout",
     "output_type": "stream",
     "text": [
      "Hurrah! The lengths match!\n",
      "I: [[1, 1, 1, 1], [0, 0, 0, 0], [1, 1, 1, 1], [0, 0, 0, 0], [1, 1, 1, 1], [0, 0, 0, 0], [1, 1, 1, 1], [0, 0, 0, 0]]\n",
      "O: [[0, 0, 0, 0], [1, 1, 1, 1], [0, 0, 0, 0], [1, 1, 1, 1], [0, 0, 0, 0], [1, 1, 1, 1], [0, 0, 0, 0], [1, 1, 1, 1]]\n"
     ]
    }
   ],
   "source": [
    "def reverseBits(input_array):\n",
    "    reversed_bits = [] \n",
    " \n",
    "    for i in range(len(input_array)-1, -1, -1):\n",
    "        reversed_bits.append(input_array[i])\n",
    "\n",
    "    if( len(input_array) == len(reversed_bits)):\n",
    "        print('Hurrah! The lengths match!')\n",
    "    else: \n",
    "        print('Oops. The lengths do not match! Check your ranges.' )\n",
    "        \n",
    "    if(len(input_array) != 8):\n",
    "        print('This is not a 32-bit integer...')\n",
    "\n",
    "    return reversed_bits\n",
    "        \n",
    "reversed_bits = reverseBits(input_array)\n",
    "\n",
    "print('I:', input_array)\n",
    "print('O:',reversed_bits)"
   ]
  },
  {
   "cell_type": "markdown",
   "metadata": {},
   "source": [
    "### But what if permutations were possible?\n",
    "\n",
    "We'll come back to this! "
   ]
  }
 ],
 "metadata": {
  "kernelspec": {
   "display_name": "Python 3",
   "language": "python",
   "name": "python3"
  },
  "language_info": {
   "codemirror_mode": {
    "name": "ipython",
    "version": 3
   },
   "file_extension": ".py",
   "mimetype": "text/x-python",
   "name": "python",
   "nbconvert_exporter": "python",
   "pygments_lexer": "ipython3",
   "version": "3.6.4"
  },
  "toc": {
   "base_numbering": 1,
   "nav_menu": {},
   "number_sections": true,
   "sideBar": true,
   "skip_h1_title": true,
   "title_cell": "Table of Contents",
   "title_sidebar": "Contents",
   "toc_cell": false,
   "toc_position": {},
   "toc_section_display": true,
   "toc_window_display": false
  },
  "varInspector": {
   "cols": {
    "lenName": 16,
    "lenType": 16,
    "lenVar": 40
   },
   "kernels_config": {
    "python": {
     "delete_cmd_postfix": "",
     "delete_cmd_prefix": "del ",
     "library": "var_list.py",
     "varRefreshCmd": "print(var_dic_list())"
    },
    "r": {
     "delete_cmd_postfix": ") ",
     "delete_cmd_prefix": "rm(",
     "library": "var_list.r",
     "varRefreshCmd": "cat(var_dic_list()) "
    }
   },
   "types_to_exclude": [
    "module",
    "function",
    "builtin_function_or_method",
    "instance",
    "_Feature"
   ],
   "window_display": false
  }
 },
 "nbformat": 4,
 "nbformat_minor": 2
}
